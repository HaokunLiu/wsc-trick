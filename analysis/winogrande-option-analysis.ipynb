{
 "cells": [
  {
   "cell_type": "code",
   "execution_count": 1,
   "metadata": {},
   "outputs": [],
   "source": [
    "import os\n",
    "import json\n",
    "import pandas as pd\n",
    "import matplotlib\n",
    "from matplotlib import rc\n",
    "import matplotlib.pyplot as plt\n",
    "from matplotlib import cm\n",
    "import numpy as np\n",
    "from datetime import datetime as dt"
   ]
  },
  {
   "cell_type": "code",
   "execution_count": 2,
   "metadata": {},
   "outputs": [],
   "source": [
    "rc('font', **{'family': 'serif', 'serif': ['Computer Modern']})\n",
    "rc('text', usetex=True)"
   ]
  },
  {
   "cell_type": "markdown",
   "metadata": {},
   "source": [
    "# Load Data"
   ]
  },
  {
   "cell_type": "code",
   "execution_count": 24,
   "metadata": {},
   "outputs": [],
   "source": [
    "DATASET = 'winogrande-m-option'\n",
    "wd = os.path.dirname(os.path.abspath('__file__'))\n",
    "f_name1 = f\"{DATASET}_1.csv\"\n",
    "f_name2 = f\"{DATASET}_2.csv\"\n",
    "\n",
    "results1 = pd.read_csv(os.path.join(wd, f_name1))\n",
    "results2 = pd.read_csv(os.path.join(wd, f_name2))\n",
    "\n",
    "\n",
    "results = pd.concat([results1,results2]).reset_index()\n",
    "results = results.loc[results['dataset']==DATASET,:]"
   ]
  },
  {
   "cell_type": "code",
   "execution_count": 25,
   "metadata": {},
   "outputs": [
    {
     "name": "stdout",
     "output_type": "stream",
     "text": [
      "     index              dataset        framing  learning_rate  batch_size  \\\n",
      "121    121  winogrande-m-option         MC-MLM        0.00001          16   \n",
      "122    122  winogrande-m-option         MC-MLM        0.00001          16   \n",
      "123    123  winogrande-m-option         MC-MLM        0.00001          64   \n",
      "124    124  winogrande-m-option         MC-MLM        0.00002          32   \n",
      "125    125  winogrande-m-option         MC-MLM        0.00002          32   \n",
      "..     ...                  ...            ...            ...         ...   \n",
      "536    205  winogrande-m-option         P-SENT        0.00003          16   \n",
      "537    206  winogrande-m-option         P-SENT        0.00002          16   \n",
      "538    207  winogrande-m-option         P-SENT        0.00003          32   \n",
      "539    208  winogrande-m-option         P-SENT        0.00003          32   \n",
      "540    209  winogrande-m-option  MC-SENT-PLOSS        0.00002           8   \n",
      "\n",
      "     max_epochs    seed  best_val_accuracy  \\\n",
      "121          20  810635           0.694554   \n",
      "122          20  769574           0.694554   \n",
      "123          40  193035           0.682715   \n",
      "124          40  483635           0.681926   \n",
      "125          40  902778           0.681926   \n",
      "..          ...     ...                ...   \n",
      "536          20  265193           0.504341   \n",
      "537          40  505878           0.504341   \n",
      "538          40  341839           0.504341   \n",
      "539          40  409666           0.504341   \n",
      "540          10  756919           0.503552   \n",
      "\n",
      "                                              exp_name  \n",
      "121  winogrande-m-option_MC-MLM_lr_1e-05_bs_16_max-...  \n",
      "122  winogrande-m-option_MC-MLM_lr_1e-05_bs_16_max-...  \n",
      "123  winogrande-m-option_MC-MLM_lr_1e-05_bs_64_max-...  \n",
      "124  winogrande-m-option_MC-MLM_lr_2e-05_bs_32_max-...  \n",
      "125  winogrande-m-option_MC-MLM_lr_2e-05_bs_32_max-...  \n",
      "..                                                 ...  \n",
      "536  winogrande-m-option_P-SENT_lr_3e-05_bs_16_max-...  \n",
      "537  winogrande-m-option_P-SENT_lr_2e-05_bs_16_max-...  \n",
      "538  winogrande-m-option_P-SENT_lr_3e-05_bs_32_max-...  \n",
      "539  winogrande-m-option_P-SENT_lr_3e-05_bs_32_max-...  \n",
      "540  winogrande-m-option_MC-SENT-PLOSS_lr_2e-05_bs_...  \n",
      "\n",
      "[420 rows x 9 columns]\n",
      "121    0.694554\n",
      "122    0.694554\n",
      "123    0.682715\n",
      "124    0.681926\n",
      "125    0.681926\n",
      "         ...   \n",
      "536    0.504341\n",
      "537    0.504341\n",
      "538    0.504341\n",
      "539    0.504341\n",
      "540    0.503552\n",
      "Name: best_val_accuracy, Length: 420, dtype: float64\n"
     ]
    }
   ],
   "source": [
    "print(results)\n",
    "print(results['best_val_accuracy'])"
   ]
  },
  {
   "cell_type": "code",
   "execution_count": 26,
   "metadata": {},
   "outputs": [
    {
     "name": "stdout",
     "output_type": "stream",
     "text": [
      "420\n"
     ]
    }
   ],
   "source": [
    "print(len(results['exp_name'].unique()))"
   ]
  },
  {
   "cell_type": "markdown",
   "metadata": {},
   "source": [
    "# Analyze"
   ]
  },
  {
   "cell_type": "code",
   "execution_count": 5,
   "metadata": {},
   "outputs": [],
   "source": [
    "def adjacent_values(vals, q1, q3):\n",
    "    upper_adjacent_value = q3 + (q3 - q1) * 1.5\n",
    "    upper_adjacent_value = np.clip(upper_adjacent_value, q3, vals[-1])\n",
    "\n",
    "    lower_adjacent_value = q1 - (q3 - q1) * 1.5\n",
    "    lower_adjacent_value = np.clip(lower_adjacent_value, vals[0], q1)\n",
    "    return lower_adjacent_value, upper_adjacent_value"
   ]
  },
  {
   "cell_type": "code",
   "execution_count": 18,
   "metadata": {},
   "outputs": [],
   "source": [
    "def make_box_plots(data,\n",
    "                   labels, \n",
    "                   key_frame = 'framing',\n",
    "                   key_acc = 'best_val_accuracy',\n",
    "                   x_size = 15,\n",
    "                   y_size = 5,\n",
    "                   y_min = 55,\n",
    "                   y_max = 100,\n",
    "                   y_tick = 15,\n",
    "                   y_offset = 1,\n",
    "                   x_offset = .85,\n",
    "                   splines_offset = 10,\n",
    "                   bar_trans = 0.3,\n",
    "                   colors = ['darkgrey',\n",
    "                             'peachpuff',\n",
    "                             'burlywood',\n",
    "                             'gold',\n",
    "                             'lightgreen',\n",
    "                             'skyblue',\n",
    "                             'plum',\n",
    "                             'darkgrey'\n",
    "                            ],\n",
    "                   bar_colors = True,\n",
    "                   bar_labels = True,\n",
    "                   adjusted_axes = True,\n",
    "                   title = None,\n",
    "                   showfliers = True,\n",
    "                   notch = False,\n",
    "                   majority = None,\n",
    "                   human = None,\n",
    "                   ylabel = 'Accuracy (%)',\n",
    "                   xlabel = 'Formalization',\n",
    "                   label_size = 18,\n",
    "                   tick_size = 12,\n",
    "                   plabel_size = 12,\n",
    "                   bar = False,\n",
    "                   label_type = 'max',\n",
    "                   box = True,\n",
    "                   violin = False,\n",
    "                  ):\n",
    "    \n",
    "    iter_labels = [x for x in labels]\n",
    "    \n",
    "    scores = {\n",
    "        'all'    : [],\n",
    "        'max'    : [],\n",
    "        '3Q'     : [],\n",
    "        'median' : [],\n",
    "    }\n",
    "    \n",
    "    add_x_offset = {\n",
    "        'max'    : 0,\n",
    "        '3Q'     : 0.4,\n",
    "        'median' : 0.45,\n",
    "    }\n",
    "    \n",
    "    add_y_offset = {\n",
    "        'max'    : 0,\n",
    "        '3Q'     : -y_offset,\n",
    "        'median' : -y_offset,\n",
    "    }  \n",
    "        \n",
    "    for label in iter_labels:\n",
    "        dist = data.loc[data[key_frame]==label,key_acc]*100\n",
    "        scores['all'].append(sorted(dist.to_numpy()))\n",
    "        scores['max'].append(max(dist))\n",
    "        scores['3Q'].append(dist.quantile(q=0.75))\n",
    "        scores['median'].append(dist.median())\n",
    "    \n",
    "    n_samples = len(scores['all'][0])\n",
    "    \n",
    "    # add majority class\n",
    "    if not majority is None:\n",
    "        labels.insert(0,'Majority')\n",
    "        if bar:\n",
    "            scores['all'].insert(0,[0])\n",
    "        else:\n",
    "            scores['all'].insert(0,[majority]*n_samples)\n",
    "        \n",
    "        for key, item in scores.items():\n",
    "            if key != 'all':\n",
    "                item.insert(0,majority)\n",
    "    \n",
    "    # add human results\n",
    "    if not human is None:\n",
    "        labels.append('Human')\n",
    "        if bar:\n",
    "            scores['all'].append([0])\n",
    "        else:\n",
    "            scores['all'].append([human]*n_samples)\n",
    "\n",
    "        for key, item in scores.items():\n",
    "            if key != 'all':\n",
    "                item.append(human)\n",
    "    \n",
    "    \n",
    "    # create figure\n",
    "    fig, ax = plt.subplots(figsize=(x_size, y_size))\n",
    "    \n",
    "    # format chart\n",
    "    if not title is None:\n",
    "        ax.set_title(title)\n",
    "    \n",
    "    # format labels\n",
    "    ax.set_ylim(y_min, y_max)\n",
    "    ax.set_yticks(np.arange(y_min, y_max+1, y_tick))\n",
    "    ax.set_xticklabels(labels)\n",
    "    ax.tick_params(labelsize=tick_size)\n",
    "    \n",
    "    if adjusted_axes:\n",
    "        # Adjust plot borders\n",
    "        ax.spines['right'].set_visible(False)\n",
    "        ax.spines['top'].set_visible(False)\n",
    "        ax.spines['left'].set_position(('outward', splines_offset))\n",
    "        ax.spines['bottom'].set_position(('outward', splines_offset))\n",
    "    \n",
    "    ticks = np.arange(len(labels))+1\n",
    "    \n",
    "    ax.set_ylabel(ylabel, fontsize=label_size)\n",
    "    ax.set_xlabel(xlabel, fontsize=label_size)\n",
    "    \n",
    "    # make plots    \n",
    "    assert label_type in scores.keys(), f\"label_type {label_type} not supported\"\n",
    "    \n",
    "    if bar:\n",
    "        # bar chart\n",
    "        if not bar_colors:\n",
    "            colors = None\n",
    "        ax.bar(ticks, scores[label_type], color = colors, alpha=bar_trans)\n",
    "        \n",
    "    if box:\n",
    "        # box plot\n",
    "        ax.boxplot(scores['all'], notch = notch, showfliers = showfliers)\n",
    "        \n",
    "    if violin:\n",
    "        # violin plot\n",
    "        ax.set_xticks(ticks)\n",
    "        \n",
    "        parts = ax.violinplot(scores['all'], positions = ticks, showmedians = False, showextrema=False)\n",
    "        \n",
    "        if bar_colors:\n",
    "            for pc, color in zip(parts['bodies'], colors):\n",
    "                pc.set_facecolor(color)\n",
    "                pc.set_alpha(.5)\n",
    "                pc.set_edgecolor('black')\n",
    "\n",
    "        quartile1, medians, quartile3 = np.percentile(scores['all'], [25, 50, 75], axis=1)\n",
    "        whiskers = np.array([\n",
    "            adjacent_values(sorted_array, q1, q3)\n",
    "            for sorted_array, q1, q3 in zip(scores['all'], quartile1, quartile3)])\n",
    "        whiskersMin, whiskersMax = whiskers[:, 0], whiskers[:, 1]\n",
    "\n",
    "        inds = np.arange(1, len(medians) + 1)\n",
    "        ax.scatter(inds[1:len(inds)], medians[1:len(inds)], marker='_', color='orange', s=1000, zorder=3)\n",
    "        ax.vlines(inds, quartile1, quartile3, color='k', linestyle='-', lw=5)\n",
    "        ax.vlines(inds, whiskersMin, whiskersMax, color='k', linestyle='-', lw=1)\n",
    "                \n",
    "    \n",
    "    # add accuracy values\n",
    "    if bar_labels:\n",
    "        for i, v in enumerate(scores[label_type]):\n",
    "            \n",
    "            x=add_x_offset[label_type]\n",
    "            y=add_y_offset[label_type]\n",
    "            \n",
    "            if ((not human is None and i == len(scores[label_type])-1)\n",
    "                or (not majority is None and i == 0)):\n",
    "                x = 0\n",
    "                y = 0\n",
    "                \n",
    "            ax.text(i + x_offset + x,\n",
    "                    v + y_offset + y,\n",
    "                    \"{:.2f}%\".format(v),\n",
    "                    fontsize=plabel_size,\n",
    "                   )\n",
    "    \n",
    "    # Adjust layout\n",
    "    fig.tight_layout()\n",
    "    \n",
    "    return fig"
   ]
  },
  {
   "cell_type": "code",
   "execution_count": 27,
   "metadata": {},
   "outputs": [
    {
     "data": {
      "image/png": "[encoded data removed]",
      "text/plain": [
       "<Figure size 1080x360 with 1 Axes>"
      ]
     },
     "metadata": {
      "needs_background": "light"
     },
     "output_type": "display_data"
    }
   ],
   "source": [
    "bar = False\n",
    "box = False\n",
    "violin = True\n",
    "\n",
    "ordered_framings = ['P-SPAN',\n",
    "                   'P-SENT',\n",
    "                   'MC-SENT-PLOSS',\n",
    "                   'MC-SENT-PAIR',\n",
    "                   'MC-SENT',\n",
    "                   'MC-MLM']\n",
    "\n",
    "f_violin = make_box_plots(results,\n",
    "                   ordered_framings,\n",
    "                   adjusted_axes = True,\n",
    "                   title = None,\n",
    "                   showfliers = True,\n",
    "                   y_min = 40,\n",
    "                   y_max = 100,\n",
    "                   y_tick = 20,\n",
    "                   notch = False,\n",
    "                   ylabel = r'Accuracy (\\%)',\n",
    "                   xlabel = r'Formalization',\n",
    "                   majority = 50.43,\n",
    "                   human = None,\n",
    "                   label_size=20,\n",
    "                   tick_size=14,\n",
    "                   plabel_size=14,\n",
    "                   x_offset = .88,\n",
    "                   bar_colors = True,\n",
    "                   bar_labels = True,\n",
    "                   label_type = '3Q',\n",
    "                   bar = bar,\n",
    "                   box = box,\n",
    "                   violin = violin,\n",
    "                  )"
   ]
  },
  {
   "cell_type": "code",
   "execution_count": 14,
   "metadata": {},
   "outputs": [
    {
     "data": {
      "image/png": "[encoded data removed]",
      "text/plain": [
       "<Figure size 1080x360 with 1 Axes>"
      ]
     },
     "metadata": {
      "needs_background": "light"
     },
     "output_type": "display_data"
    }
   ],
   "source": [
    "bar = False\n",
    "box = True\n",
    "violin = False\n",
    "\n",
    "ordered_framings = ['P-SPAN',\n",
    "                   'P-SENT',\n",
    "                   'MC-SENT-PLOSS',\n",
    "                   'MC-SENT-PAIR',\n",
    "                   'MC-SENT',\n",
    "                   'MC-MLM']\n",
    "\n",
    "f_box = make_box_plots(results,\n",
    "                   ordered_framings,\n",
    "                   adjusted_axes = True,\n",
    "                   title = None,\n",
    "                   showfliers = True,\n",
    "                   y_min = 50,\n",
    "                   y_max = 100,\n",
    "                   y_tick = 10,\n",
    "                   notch = False,\n",
    "                   ylabel = r'Accuracy (\\%)',\n",
    "                   xlabel = r'Formalization',\n",
    "                   majority = None,\n",
    "                   human = None,\n",
    "                   label_size=20,\n",
    "                   tick_size=14,\n",
    "                   plabel_size=14,\n",
    "                   x_offset = .88,\n",
    "                   bar_colors = True,\n",
    "                   bar_labels = True,\n",
    "                   label_type = '3Q',\n",
    "                   bar = bar,\n",
    "                   box = box,\n",
    "                   violin = violin,\n",
    "                  )"
   ]
  },
  {
   "cell_type": "code",
   "execution_count": 13,
   "metadata": {},
   "outputs": [
    {
     "data": {
      "image/png": "[encoded data removed]",
      "text/plain": [
       "<Figure size 1080x360 with 1 Axes>"
      ]
     },
     "metadata": {
      "needs_background": "light"
     },
     "output_type": "display_data"
    }
   ],
   "source": [
    "bar = True\n",
    "box = True\n",
    "violin = False\n",
    "\n",
    "ordered_framings = ['P-SPAN',\n",
    "                   'P-SENT',\n",
    "                   'MC-SENT-PLOSS',\n",
    "                   'MC-SENT-PAIR',\n",
    "                   'MC-SENT',\n",
    "                   'MC-MLM']\n",
    "\n",
    "f_box_bar = make_box_plots(results,\n",
    "                   ordered_framings,\n",
    "                   adjusted_axes = True,\n",
    "                   title = None,\n",
    "                   showfliers = True,\n",
    "                   y_min = 50,\n",
    "                   y_max = 100,\n",
    "                   y_tick = 10,\n",
    "                   notch = False,\n",
    "                   ylabel = r'Accuracy (\\%)',\n",
    "                   xlabel = r'Formalization',\n",
    "                   majority = None,\n",
    "                   human = None,\n",
    "                   label_size=20,\n",
    "                   tick_size=14,\n",
    "                   plabel_size=14,\n",
    "                   x_offset = .88,\n",
    "                   bar_colors = True,\n",
    "                   bar_labels = True,\n",
    "                   label_type = '3Q',\n",
    "                   bar = bar,\n",
    "                   box = box,\n",
    "                   violin = violin,\n",
    "                  )"
   ]
  },
  {
   "cell_type": "code",
   "execution_count": 10,
   "metadata": {},
   "outputs": [],
   "source": [
    "def get_stats(data,\n",
    "              labels,\n",
    "              key_frame = 'framing',\n",
    "              key_acc = 'best_val_accuracy',\n",
    "             ):\n",
    "    results = {label : {} for label in labels}\n",
    "    \n",
    "    for label, value in results.items():\n",
    "        dist = data.loc[data[key_frame]==label,key_acc]\n",
    "        \n",
    "        value['mean'] = dist.mean()\n",
    "        value['std'] = dist.std()\n",
    "        value['medium'] = dist.median()\n",
    "        value['1Q'] = dist.quantile(q=0.25)\n",
    "        value['3Q'] = dist.quantile(q=0.75)\n",
    "        value['max'] = max(dist)\n",
    "        value['min'] = min(dist)\n",
    "    \n",
    "    return results"
   ]
  },
  {
   "cell_type": "code",
   "execution_count": 28,
   "metadata": {},
   "outputs": [
    {
     "name": "stdout",
     "output_type": "stream",
     "text": [
      "{'P-SPAN': {'mean': 0.6010523546557619, 'std': 0.07029034616035999, 'medium': 0.6432517758955049, '1Q': 0.5043409629280208, '3Q': 0.6592344120380064, 'max': 0.6787687451141315, 'min': 0.5043409629}, 'P-SENT': {'mean': 0.5090370955090537, 'std': 0.021061960206107552, 'medium': 0.5043409629280208, '1Q': 0.5043409629, '3Q': 0.5043409629280208, 'max': 0.6322020521, 'min': 0.5035516969453846}, 'MC-SENT-PLOSS': {'mean': 0.5242962378353363, 'std': 0.0071131848072470034, 'medium': 0.5232833464938832, '1Q': 0.5197316495953062, '3Q': 0.5297947908719246, 'max': 0.5453827940251005, 'min': 0.5035516969}, 'MC-SENT-PAIR': {'mean': 0.5410812944087854, 'std': 0.0419394712962352, 'medium': 0.5256511444591968, '1Q': 0.5193370166, '3Q': 0.5386740331807813, 'max': 0.6637726914000001, 'min': 0.5067087609}, 'MC-SENT': {'mean': 0.5377926861536595, 'std': 0.045438994643736644, 'medium': 0.5201262826042657, '1Q': 0.5153906867063366, '3Q': 0.5311760063435302, 'max': 0.6795580110732458, 'min': 0.5059194949}, 'MC-MLM': {'mean': 0.6604709287231755, 'std': 0.03238860229922136, 'medium': 0.6661404893919531, '1Q': 0.6590370955, '3Q': 0.6754143646580717, 'max': 0.6945540647668544, 'min': 0.5161799525999999}}\n"
     ]
    }
   ],
   "source": [
    "ordered_framings = ['P-SPAN',\n",
    "                   'P-SENT',\n",
    "                   'MC-SENT-PLOSS',\n",
    "                   'MC-SENT-PAIR',\n",
    "                   'MC-SENT',\n",
    "                   'MC-MLM']\n",
    "\n",
    "stats = get_stats(results,\n",
    "                  ordered_framings,\n",
    "                 )\n",
    "\n",
    "print(stats)"
   ]
  },
  {
   "cell_type": "markdown",
   "metadata": {},
   "source": [
    "# Save Stuff"
   ]
  },
  {
   "cell_type": "code",
   "execution_count": 29,
   "metadata": {},
   "outputs": [],
   "source": [
    "wd = os.path.dirname(os.path.abspath('__file__'))\n",
    "now = dt.now().strftime(\"%Y%m%d_%H%M\")\n",
    "\n",
    "f = f_violin\n",
    "f_type = 'violin'\n",
    "\n",
    "plot_name = os.path.join(wd, 'plots', f\"{DATASET}_plot_{f_type}_{now}.pdf\")\n",
    "stats_name = os.path.join(wd, 'stats', f\"{DATASET}_stats_{now}.json\")\n",
    "\n",
    "f.savefig(plot_name)\n",
    "with open(stats_name, 'w') as f:\n",
    "    f.write(json.dumps(stats))"
   ]
  }
 ],
 "metadata": {
  "kernelspec": {
   "display_name": "DL",
   "language": "python",
   "name": "dl"
  },
  "language_info": {
   "codemirror_mode": {
    "name": "ipython",
    "version": 3
   },
   "file_extension": ".py",
   "mimetype": "text/x-python",
   "name": "python",
   "nbconvert_exporter": "python",
   "pygments_lexer": "ipython3",
   "version": "3.7.7"
  }
 },
 "nbformat": 4,
 "nbformat_minor": 4
}

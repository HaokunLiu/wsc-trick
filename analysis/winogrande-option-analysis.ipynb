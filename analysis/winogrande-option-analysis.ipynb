{
 "cells": [
  {
   "cell_type": "code",
   "execution_count": 1,
   "metadata": {},
   "outputs": [],
   "source": [
    "import os\n",
    "import json\n",
    "import pandas as pd\n",
    "import matplotlib\n",
    "from matplotlib import rc\n",
    "import matplotlib.pyplot as plt\n",
    "from matplotlib import cm\n",
    "import numpy as np\n",
    "from datetime import datetime as dt\n",
    "from scipy.stats import chi2,f, bartlett, levene"
   ]
  },
  {
   "cell_type": "code",
   "execution_count": 2,
   "metadata": {},
   "outputs": [],
   "source": [
    "rc('font', **{'family': 'serif', 'serif': ['Computer Modern']})\n",
    "rc('text', usetex=True)"
   ]
  },
  {
   "cell_type": "markdown",
   "metadata": {},
   "source": [
    "# Load Data"
   ]
  },
  {
   "cell_type": "code",
   "execution_count": 67,
   "metadata": {},
   "outputs": [],
   "source": [
    "DATASET = 'winogrande-m-option'\n",
    "wd = os.path.dirname(os.path.abspath('__file__'))\n",
    "f_name1 = f\"{DATASET}_1.csv\"\n",
    "f_name2 = f\"{DATASET}_2.csv\"\n",
    "f_namequad = f\"{DATASET}_quad.csv\"\n",
    "f_namequadpair = f\"{DATASET}_quad-pair.csv\"\n",
    "\n",
    "results1 = pd.read_csv(os.path.join(wd, f_name1))\n",
    "results2 = pd.read_csv(os.path.join(wd, f_name2))\n",
    "results3 = pd.read_csv(os.path.join(wd, f_namequad))\n",
    "results4 = pd.read_csv(os.path.join(wd, f_namequadpair)).reset_index()\n",
    "\n",
    "\n",
    "results = pd.concat([results1,results2,results3]).reset_index()\n",
    "results = results.loc[results['dataset']==DATASET,:]\n",
    "results4 = results4.loc[results4['dataset']==DATASET,:]"
   ]
  },
  {
   "cell_type": "code",
   "execution_count": 4,
   "metadata": {},
   "outputs": [
    {
     "name": "stdout",
     "output_type": "stream",
     "text": [
      "     index              dataset            framing  learning_rate  batch_size  \\\n",
      "121    121  winogrande-m-option             MC-MLM        0.00001          16   \n",
      "122    122  winogrande-m-option             MC-MLM        0.00001          16   \n",
      "123    123  winogrande-m-option             MC-MLM        0.00001          64   \n",
      "124    124  winogrande-m-option             MC-MLM        0.00002          32   \n",
      "125    125  winogrande-m-option             MC-MLM        0.00002          32   \n",
      "..     ...                  ...                ...            ...         ...   \n",
      "596     55  winogrande-m-option  MC-SENT-PAIR-QUAD        0.00002          64   \n",
      "597     56  winogrande-m-option  MC-SENT-PAIR-QUAD        0.00003          16   \n",
      "598     57  winogrande-m-option  MC-SENT-PAIR-QUAD        0.00003          16   \n",
      "599     58  winogrande-m-option  MC-SENT-PAIR-QUAD        0.00003          16   \n",
      "600     59  winogrande-m-option  MC-SENT-PAIR-QUAD        0.00003          16   \n",
      "\n",
      "     max_epochs    seed  best_val_accuracy  \\\n",
      "121          20  810635           0.694554   \n",
      "122          20  769574           0.694554   \n",
      "123          40  193035           0.682715   \n",
      "124          40  483635           0.681926   \n",
      "125          40  902778           0.681926   \n",
      "..          ...     ...                ...   \n",
      "596          10  307474           0.513812   \n",
      "597          10  210672           0.507498   \n",
      "598          10  982157           0.507498   \n",
      "599          10  369240           0.507498   \n",
      "600          10  967779           0.507498   \n",
      "\n",
      "                                              exp_name  best_iter  \\\n",
      "121  winogrande-m-option_MC-MLM_lr_1e-05_bs_16_max-...        NaN   \n",
      "122  winogrande-m-option_MC-MLM_lr_1e-05_bs_16_max-...        NaN   \n",
      "123  winogrande-m-option_MC-MLM_lr_1e-05_bs_64_max-...        NaN   \n",
      "124  winogrande-m-option_MC-MLM_lr_2e-05_bs_32_max-...        NaN   \n",
      "125  winogrande-m-option_MC-MLM_lr_2e-05_bs_32_max-...        NaN   \n",
      "..                                                 ...        ...   \n",
      "596  winogrande-m-option_MC-SENT-PAIR-QUAD_lr_2e-05...      117.0   \n",
      "597  winogrande-m-option_MC-SENT-PAIR-QUAD_lr_3e-05...      159.0   \n",
      "598  winogrande-m-option_MC-SENT-PAIR-QUAD_lr_3e-05...      159.0   \n",
      "599  winogrande-m-option_MC-SENT-PAIR-QUAD_lr_3e-05...      159.0   \n",
      "600  winogrande-m-option_MC-SENT-PAIR-QUAD_lr_3e-05...      159.0   \n",
      "\n",
      "     current_iter  total_iter early_stop  \n",
      "121           NaN         NaN        NaN  \n",
      "122           NaN         NaN        NaN  \n",
      "123           NaN         NaN        NaN  \n",
      "124           NaN         NaN        NaN  \n",
      "125           NaN         NaN        NaN  \n",
      "..            ...         ...        ...  \n",
      "596         399.0       399.0      False  \n",
      "597        1598.0      1598.0      False  \n",
      "598        1598.0      1598.0      False  \n",
      "599        1598.0      1598.0      False  \n",
      "600        1598.0      1598.0      False  \n",
      "\n",
      "[480 rows x 13 columns]\n",
      "121    0.694554\n",
      "122    0.694554\n",
      "123    0.682715\n",
      "124    0.681926\n",
      "125    0.681926\n",
      "         ...   \n",
      "596    0.513812\n",
      "597    0.507498\n",
      "598    0.507498\n",
      "599    0.507498\n",
      "600    0.507498\n",
      "Name: best_val_accuracy, Length: 480, dtype: float64\n"
     ]
    }
   ],
   "source": [
    "print(results)\n",
    "print(results['best_val_accuracy'])"
   ]
  },
  {
   "cell_type": "code",
   "execution_count": 5,
   "metadata": {},
   "outputs": [
    {
     "name": "stdout",
     "output_type": "stream",
     "text": [
      "480\n"
     ]
    }
   ],
   "source": [
    "print(len(results['exp_name'].unique()))"
   ]
  },
  {
   "cell_type": "code",
   "execution_count": 6,
   "metadata": {},
   "outputs": [
    {
     "name": "stdout",
     "output_type": "stream",
     "text": [
      "(60, 13)\n"
     ]
    }
   ],
   "source": [
    "print(results.loc[results['framing']=='MC-SENT-PAIR-QUAD'].shape)"
   ]
  },
  {
   "cell_type": "markdown",
   "metadata": {},
   "source": [
    "# Analyze"
   ]
  },
  {
   "cell_type": "code",
   "execution_count": 7,
   "metadata": {},
   "outputs": [],
   "source": [
    "def adjacent_values(vals, q1, q3):\n",
    "    upper_adjacent_value = q3 + (q3 - q1) * 1.5\n",
    "    upper_adjacent_value = np.clip(upper_adjacent_value, q3, vals[-1])\n",
    "\n",
    "    lower_adjacent_value = q1 - (q3 - q1) * 1.5\n",
    "    lower_adjacent_value = np.clip(lower_adjacent_value, vals[0], q1)\n",
    "    return lower_adjacent_value, upper_adjacent_value"
   ]
  },
  {
   "cell_type": "code",
   "execution_count": 60,
   "metadata": {},
   "outputs": [],
   "source": [
    "def make_box_plots(data,\n",
    "                   labels,\n",
    "                   experiment_labels, \n",
    "                   key_frame = 'framing',\n",
    "                   key_acc = 'best_val_accuracy',\n",
    "                   x_size = 15,\n",
    "                   y_size = 5,\n",
    "                   y_min = 55,\n",
    "                   y_max = 100,\n",
    "                   y_tick = 15,\n",
    "                   y_offset = 1,\n",
    "                   x_offset = .85,\n",
    "                   splines_offset = 10,\n",
    "                   bar_trans = 0.3,\n",
    "                   colors = ['darkgrey',\n",
    "                             'peachpuff',\n",
    "                             'burlywood',\n",
    "                             'gold',\n",
    "                             'lightgreen',\n",
    "                             'skyblue',\n",
    "                             'plum',\n",
    "                             'darkgrey'\n",
    "                            ],\n",
    "                   bar_colors = True,\n",
    "                   bar_labels = True,\n",
    "                   adjusted_axes = True,\n",
    "                   title = None,\n",
    "                   showfliers = True,\n",
    "                   notch = False,\n",
    "                   majority = None,\n",
    "                   human = None,\n",
    "                   ylabel = 'Accuracy (%)',\n",
    "                   xlabel = 'Formalization',\n",
    "                   label_size = 18,\n",
    "                   tick_size = 12,\n",
    "                   plabel_size = 12,\n",
    "                   bar = False,\n",
    "                   label_type = 'max',\n",
    "                   box = True,\n",
    "                   violin = False,\n",
    "                   titlepad=None,\n",
    "                   titleh=None,\n",
    "                  ):    \n",
    "    scores = {\n",
    "        'all'    : [],\n",
    "        'max'    : [],\n",
    "        '3Q'     : [],\n",
    "        'median' : [],\n",
    "    }\n",
    "    \n",
    "    add_x_offset = {\n",
    "        'max'    : 0,\n",
    "        '3Q'     : 0.4,\n",
    "        'median' : 0.45,\n",
    "    }\n",
    "    \n",
    "    add_y_offset = {\n",
    "        'max'    : 0,\n",
    "        '3Q'     : -y_offset,\n",
    "        'median' : -y_offset,\n",
    "    }  \n",
    "        \n",
    "    for label in experiment_labels:\n",
    "        dist = data.loc[data[key_frame]==label,key_acc]*100\n",
    "        scores['all'].append(sorted(dist.to_numpy()))\n",
    "        scores['max'].append(max(dist))\n",
    "        scores['3Q'].append(dist.quantile(q=0.75))\n",
    "        scores['median'].append(dist.median())\n",
    "    \n",
    "    n_samples = len(scores['all'][0])\n",
    "    \n",
    "    # add majority class\n",
    "    if not majority is None:\n",
    "        labels.insert(0,'Majority')\n",
    "        if bar:\n",
    "            scores['all'].insert(0,[0])\n",
    "        else:\n",
    "            scores['all'].insert(0,[majority]*n_samples)\n",
    "        \n",
    "        for key, item in scores.items():\n",
    "            if key != 'all':\n",
    "                item.insert(0,majority)\n",
    "    \n",
    "    # add human results\n",
    "    if not human is None:\n",
    "        labels.append('Human')\n",
    "        if bar:\n",
    "            scores['all'].append([0])\n",
    "        else:\n",
    "            scores['all'].append([human]*n_samples)\n",
    "\n",
    "        for key, item in scores.items():\n",
    "            if key != 'all':\n",
    "                item.append(human)\n",
    "    \n",
    "    \n",
    "    # create figure\n",
    "    fig, ax = plt.subplots(figsize=(x_size, y_size))\n",
    "    \n",
    "    # format chart\n",
    "    if not title is None:\n",
    "#         ax.set_title(title, fontsize=label_size, pad=titlepad)\n",
    "        ax.text(len(labels)/2+0.5,\n",
    "                titleh,\n",
    "                title,\n",
    "                fontsize=label_size,\n",
    "                ha=\"center\",\n",
    "                )\n",
    "    \n",
    "    # format labels\n",
    "    ax.set_ylim(y_min, y_max)\n",
    "    ax.set_yticks(np.arange(y_min, y_max+1, y_tick))\n",
    "    ax.set_xticklabels(labels)\n",
    "    ax.tick_params(labelsize=tick_size)\n",
    "    \n",
    "    if adjusted_axes:\n",
    "        # Adjust plot borders\n",
    "        ax.spines['right'].set_visible(False)\n",
    "        ax.spines['top'].set_visible(False)\n",
    "        ax.spines['left'].set_position(('outward', splines_offset))\n",
    "        ax.spines['bottom'].set_position(('outward', splines_offset))\n",
    "    \n",
    "    ticks = np.arange(len(labels))+1\n",
    "    \n",
    "    ax.set_ylabel(ylabel, fontsize=label_size)\n",
    "    ax.set_xlabel(xlabel, fontsize=label_size)\n",
    "    \n",
    "    # make plots    \n",
    "    assert label_type in scores.keys(), f\"label_type {label_type} not supported\"\n",
    "    \n",
    "    if bar:\n",
    "        # bar chart\n",
    "        if not bar_colors:\n",
    "            colors = None\n",
    "        ax.bar(ticks, scores[label_type], color = colors, alpha=bar_trans)\n",
    "        \n",
    "    if box:\n",
    "        # box plot\n",
    "        ax.boxplot(scores['all'], notch = notch, showfliers = showfliers)\n",
    "        \n",
    "    if violin:\n",
    "        # violin plot\n",
    "        ax.set_xticks(ticks)\n",
    "        \n",
    "        parts = ax.violinplot(scores['all'], positions = ticks, showmedians = False, showextrema=False, bw_method='silverman')\n",
    "        \n",
    "        if bar_colors:\n",
    "            for pc, color in zip(parts['bodies'], colors):\n",
    "                pc.set_facecolor(color)\n",
    "                pc.set_alpha(.5)\n",
    "                pc.set_edgecolor('black')\n",
    "        \n",
    "        print(type(scores['all']))\n",
    "        quartile1, medians, quartile3 = np.percentile(np.array(scores['all']).reshape(len(scores['all']),-1), [25, 50, 75], axis=1)\n",
    "        whiskers = np.array([\n",
    "            adjacent_values(sorted_array, q1, q3)\n",
    "            for sorted_array, q1, q3 in zip(scores['all'], quartile1, quartile3)])\n",
    "        whiskersMin, whiskersMax = whiskers[:, 0], whiskers[:, 1]\n",
    "\n",
    "        inds = np.arange(1, len(medians) + 1)\n",
    "        ax.scatter(inds[1:len(inds)-1], medians[1:len(inds)-1], marker='_', color='orange', s=1000, zorder=3)\n",
    "        ax.vlines(inds, quartile1, quartile3, color='k', linestyle='-', lw=5)\n",
    "        ax.vlines(inds, whiskersMin, whiskersMax, color='k', linestyle='-', lw=1)\n",
    "                \n",
    "    \n",
    "    # add accuracy values\n",
    "    for i, v in enumerate(scores[label_type]):\n",
    "        if bar_labels or (i==0 or i==len(scores[label_type])-1):\n",
    "            \n",
    "            x=add_x_offset[label_type]\n",
    "            y=add_y_offset[label_type]\n",
    "            \n",
    "            if ((not human is None and i == len(scores[label_type])-1)\n",
    "                or (not majority is None and i == 0)):\n",
    "                x = 0\n",
    "                y = 0\n",
    "                \n",
    "            ax.text(i + x_offset + x,\n",
    "                    v + y_offset + y,\n",
    "                    \"{:.1f}%\".format(v),\n",
    "                    fontsize=plabel_size,\n",
    "                   )\n",
    "    \n",
    "    # Adjust layout\n",
    "    fig.tight_layout()\n",
    "    \n",
    "    return fig"
   ]
  },
  {
   "cell_type": "code",
   "execution_count": 55,
   "metadata": {},
   "outputs": [
    {
     "name": "stdout",
     "output_type": "stream",
     "text": [
      "(2, 3)\n",
      "(2, 3)\n"
     ]
    }
   ],
   "source": [
    "a = np.array([np.array([1,2,3]),np.array([3,4,3])])\n",
    "\n",
    "print(a.shape)\n",
    "\n",
    "a.reshape(-1,1)\n",
    "\n",
    "print(a.shape)"
   ]
  },
  {
   "cell_type": "code",
   "execution_count": 61,
   "metadata": {},
   "outputs": [
    {
     "name": "stdout",
     "output_type": "stream",
     "text": [
      "<class 'list'>\n"
     ]
    },
    {
     "data": {
      "image/png": "[encoded data removed]",
      "text/plain": [
       "<Figure size 1440x252 with 1 Axes>"
      ]
     },
     "metadata": {
      "needs_background": "light"
     },
     "output_type": "display_data"
    }
   ],
   "source": [
    "bar = False\n",
    "box = False\n",
    "violin = True\n",
    "\n",
    "ordered_framings = ['P-SPAN',\n",
    "                   'P-SENT',\n",
    "                   'MC-SENT-PLOSS',\n",
    "                   'MC-SENT-PAIR',\n",
    "                   'MC-SENT',\n",
    "                   'MC-MLM']\n",
    "\n",
    "chart_labels = ['P-Span',\n",
    "               'P-Sent',\n",
    "               'MC-Sent-NoPairLoss',\n",
    "               'MC-Sent-NoSoftmax',\n",
    "               'MC-Sent',\n",
    "               'MC-MLM']\n",
    "\n",
    "f_violin = make_box_plots(results,\n",
    "                   chart_labels,\n",
    "                   ordered_framings,\n",
    "                   adjusted_axes = True,\n",
    "                   title = 'WinoGrande-Medium',\n",
    "                   titleh=96,\n",
    "                   showfliers = True,\n",
    "                   x_size = 20,\n",
    "                   y_size = 3.5,\n",
    "                   y_min = 40,\n",
    "                   y_max = 100,\n",
    "                   y_tick = 20,\n",
    "                   notch = False,\n",
    "                   ylabel = r'Accuracy (\\%)',\n",
    "                   xlabel = None,\n",
    "                   #xlabel = r'Formalization',\n",
    "                   majority = 50.43,\n",
    "                   human = 94.1,\n",
    "                   label_size=20,\n",
    "                   tick_size=18,\n",
    "                   plabel_size=18,\n",
    "                   x_offset = .88,\n",
    "                   bar_colors = True,\n",
    "                   bar_labels = True,\n",
    "                   label_type = '3Q',\n",
    "                   bar = bar,\n",
    "                   box = box,\n",
    "                   violin = violin,\n",
    "                  )"
   ]
  },
  {
   "cell_type": "code",
   "execution_count": 62,
   "metadata": {},
   "outputs": [
    {
     "name": "stdout",
     "output_type": "stream",
     "text": [
      "<class 'list'>\n"
     ]
    },
    {
     "data": {
      "image/png": "[encoded data removed]",
      "text/plain": [
       "<Figure size 1440x720 with 1 Axes>"
      ]
     },
     "metadata": {
      "needs_background": "light"
     },
     "output_type": "display_data"
    }
   ],
   "source": [
    "bar = False\n",
    "box = False\n",
    "violin = True\n",
    "\n",
    "ordered_framings = [\n",
    "    'MC-SENT-PAIR-QUAD',\n",
    "    'MC-SENT-PAIR',\n",
    "]\n",
    "\n",
    "chart_labels = [\n",
    "    'MC-Sent-NoSoftmax-Quad',\n",
    "    'MC-Sent-NoSoftmax',\n",
    "]\n",
    "\n",
    "f_violin = make_box_plots(results,\n",
    "                   chart_labels,\n",
    "                   ordered_framings,\n",
    "                   adjusted_axes = True,\n",
    "                   title = 'WinoGrande-Medium',\n",
    "                   titleh=96,\n",
    "                   showfliers = True,\n",
    "                   x_size = 20,\n",
    "                   y_size = 10,\n",
    "                   y_min = 40,\n",
    "                   y_max = 100,\n",
    "                   y_tick = 20,\n",
    "                   notch = False,\n",
    "                   ylabel = r'Accuracy (\\%)',\n",
    "                   xlabel = None,\n",
    "                   #xlabel = r'Formalization',\n",
    "                   majority = 50.43,\n",
    "                   human = 94.1,\n",
    "                   label_size=20,\n",
    "                   tick_size=18,\n",
    "                   plabel_size=18,\n",
    "                   x_offset = .88,\n",
    "                   bar_colors = True,\n",
    "                   bar_labels = True,\n",
    "                   label_type = '3Q',\n",
    "                   bar = bar,\n",
    "                   box = box,\n",
    "                   violin = violin,\n",
    "                  )"
   ]
  },
  {
   "cell_type": "code",
   "execution_count": 11,
   "metadata": {},
   "outputs": [],
   "source": [
    "def get_stats(data,\n",
    "              labels,\n",
    "              key_frame = 'framing',\n",
    "              key_acc = 'best_val_accuracy',\n",
    "             ):\n",
    "    results = {label : {} for label in labels}\n",
    "    \n",
    "    for label, value in results.items():\n",
    "        dist = data.loc[data[key_frame]==label,key_acc]\n",
    "        \n",
    "        value['mean'] = dist.mean()\n",
    "        value['std'] = dist.std()\n",
    "        value['medium'] = dist.median()\n",
    "        value['1Q'] = dist.quantile(q=0.25)\n",
    "        value['3Q'] = dist.quantile(q=0.75)\n",
    "        value['max'] = max(dist)\n",
    "        value['min'] = min(dist)\n",
    "        value['top_3Q_dist'] = max(dist)-dist.quantile(q=0.75)\n",
    "        value['kurtosis'] = dist.kurtosis()\n",
    "    \n",
    "    return results"
   ]
  },
  {
   "cell_type": "code",
   "execution_count": 12,
   "metadata": {},
   "outputs": [
    {
     "name": "stdout",
     "output_type": "stream",
     "text": [
      "{'P-SPAN': {'mean': 0.6010523546557619, 'std': 0.07029034616035999, 'medium': 0.6432517758955049, '1Q': 0.5043409629280208, '3Q': 0.6592344120380064, 'max': 0.6787687451141315, 'min': 0.5043409629, 'top_3Q_dist': 0.019534333076125177, 'kurtosis': -1.615641100770949}, 'P-SENT': {'mean': 0.5090370955090537, 'std': 0.021061960206107552, 'medium': 0.5043409629280208, '1Q': 0.5043409629, '3Q': 0.5043409629280208, 'max': 0.6322020521, 'min': 0.5035516969453846, 'top_3Q_dist': 0.12786108917197925, 'kurtosis': 27.55161348189248}, 'MC-SENT-PLOSS': {'mean': 0.5242962378353363, 'std': 0.0071131848072470034, 'medium': 0.5232833464938832, '1Q': 0.5197316495953062, '3Q': 0.5297947908719246, 'max': 0.5453827940251005, 'min': 0.5035516969, 'top_3Q_dist': 0.015588003153175878, 'kurtosis': 0.7239932749745304}, 'MC-SENT-PAIR-QUAD': {'mean': 0.5443304393580637, 'std': 0.048827931156448914, 'medium': 0.5256511444356748, '1Q': 0.5209155485398579, '3Q': 0.5290055248618785, 'max': 0.6724546172059984, 'min': 0.5074980268350434, 'top_3Q_dist': 0.14344909234411996, 'kurtosis': 2.02902742211559}, 'MC-SENT-PAIR': {'mean': 0.5410812944087854, 'std': 0.0419394712962352, 'medium': 0.5256511444591968, '1Q': 0.5193370166, '3Q': 0.5386740331807813, 'max': 0.6637726914000001, 'min': 0.5067087609, 'top_3Q_dist': 0.12509865821921873, 'kurtosis': 2.974122878597868}, 'MC-SENT': {'mean': 0.5377926861536595, 'std': 0.045438994643736644, 'medium': 0.5201262826042657, '1Q': 0.5153906867063366, '3Q': 0.5311760063435302, 'max': 0.6795580110732458, 'min': 0.5059194949, 'top_3Q_dist': 0.14838200472971552, 'kurtosis': 4.090518245288173}, 'MC-MLM': {'mean': 0.6604709287231755, 'std': 0.03238860229922136, 'medium': 0.6661404893919531, '1Q': 0.6590370955, '3Q': 0.6754143646580717, 'max': 0.6945540647668544, 'min': 0.5161799525999999, 'top_3Q_dist': 0.019139700108782742, 'kurtosis': 12.718073598711872}}\n"
     ]
    }
   ],
   "source": [
    "ordered_framings = [\n",
    "    'P-SPAN',\n",
    "    'P-SENT',\n",
    "    'MC-SENT-PLOSS',\n",
    "    'MC-SENT-PAIR-QUAD',\n",
    "    'MC-SENT-PAIR',\n",
    "    'MC-SENT',\n",
    "    'MC-MLM'\n",
    "]\n",
    "\n",
    "stats = get_stats(results,\n",
    "                  ordered_framings,\n",
    "                 )\n",
    "\n",
    "print(stats)"
   ]
  },
  {
   "cell_type": "code",
   "execution_count": 13,
   "metadata": {},
   "outputs": [
    {
     "name": "stdout",
     "output_type": "stream",
     "text": [
      "             MC-SENT-PAIR-QUAD  MC-SENT-PAIR\n",
      "mean                  0.544330      0.541081\n",
      "std                   0.048828      0.041939\n",
      "medium                0.525651      0.525651\n",
      "1Q                    0.520916      0.519337\n",
      "3Q                    0.529006      0.538674\n",
      "max                   0.672455      0.663773\n",
      "min                   0.507498      0.506709\n",
      "top_3Q_dist           0.143449      0.125099\n",
      "kurtosis              2.029027      2.974123\n"
     ]
    }
   ],
   "source": [
    "ordered_framings = [\n",
    "    'MC-SENT-PAIR-QUAD',\n",
    "    'MC-SENT-PAIR',\n",
    "]\n",
    "\n",
    "quad_comp = {key:stats[key] for key in ordered_framings}\n",
    "\n",
    "quad_comp_df = pd.DataFrame(quad_comp)\n",
    "\n",
    "print(quad_comp_df)"
   ]
  },
  {
   "cell_type": "code",
   "execution_count": 66,
   "metadata": {},
   "outputs": [
    {
     "name": "stdout",
     "output_type": "stream",
     "text": [
      "Levene:\n",
      "Stat is: 0.12811924166864214\n",
      "P-value is: 0.7210295766159451\n",
      "\n",
      "Bartlett:\n",
      "Stat is: 1.3478336690694532\n",
      "P-value is: 0.24565719499634936\n",
      "\n",
      "F:\n",
      "P-value is: 0.8771691720281415\n",
      "\n"
     ]
    }
   ],
   "source": [
    "# Perform Levene, Bartlett, and F test:\n",
    "# https://docs.scipy.org/doc/scipy/reference/generated/scipy.stats.levene.html#scipy.stats.levene\n",
    "# https://docs.scipy.org/doc/scipy/reference/generated/scipy.stats.bartlett.html\n",
    "# https://stackoverflow.com/questions/21494141/how-do-i-do-a-f-test-in-python\n",
    "\n",
    "mcsentpair = results.loc[results['framing']=='MC-SENT-PAIR']['best_val_accuracy']\n",
    "mcsentpairquad = results.loc[results['framing']=='MC-SENT-PAIR-QUAD']['best_val_accuracy']\n",
    "\n",
    "levene_stat, levene_p = levene(mcsentpair, mcsentpairquad)\n",
    "bartlett_stat, bartlett_p = bartlett(mcsentpair, mcsentpairquad)\n",
    "f_p = f.cdf(mcsentpairquad.var()/mcsentpair.var(),len(mcsentpairquad)-1,len(mcsentpair)-1)\n",
    "\n",
    "print(\"Levene:\")\n",
    "print(f\"Stat is: {levene_stat}\")\n",
    "print(f\"P-value is: {levene_p}\\n\")\n",
    "\n",
    "print(\"Bartlett:\")\n",
    "print(f\"Stat is: {bartlett_stat}\")\n",
    "print(f\"P-value is: {bartlett_p}\\n\")\n",
    "\n",
    "print(\"F:\")\n",
    "print(f\"P-value is: {f_p}\\n\")"
   ]
  },
  {
   "cell_type": "markdown",
   "metadata": {},
   "source": [
    "## Quad Comparison"
   ]
  },
  {
   "cell_type": "code",
   "execution_count": 68,
   "metadata": {
    "scrolled": true
   },
   "outputs": [
    {
     "name": "stdout",
     "output_type": "stream",
     "text": [
      "<class 'list'>\n"
     ]
    },
    {
     "data": {
      "image/png": "[encoded data removed]",
      "text/plain": [
       "<Figure size 1440x720 with 1 Axes>"
      ]
     },
     "metadata": {
      "needs_background": "light"
     },
     "output_type": "display_data"
    }
   ],
   "source": [
    "bar = False\n",
    "box = False\n",
    "violin = True\n",
    "\n",
    "ordered_framings = [\n",
    "    'MC-SENT-PAIR-QUAD',\n",
    "    'MC-SENT-PAIR',\n",
    "]\n",
    "\n",
    "chart_labels = [\n",
    "    'MC-Sent-NoSoftmax-Quad',\n",
    "    'MC-Sent-NoSoftmax',\n",
    "]\n",
    "\n",
    "f_violin = make_box_plots(results4,\n",
    "                   chart_labels,\n",
    "                   ordered_framings,\n",
    "                   adjusted_axes = True,\n",
    "                   title = 'WinoGrande-Medium',\n",
    "                   titleh=96,\n",
    "                   showfliers = True,\n",
    "                   x_size = 20,\n",
    "                   y_size = 10,\n",
    "                   y_min = 40,\n",
    "                   y_max = 100,\n",
    "                   y_tick = 20,\n",
    "                   notch = False,\n",
    "                   ylabel = r'Accuracy (\\%)',\n",
    "                   xlabel = None,\n",
    "                   #xlabel = r'Formalization',\n",
    "                   majority = 50.43,\n",
    "                   human = 94.1,\n",
    "                   label_size=20,\n",
    "                   tick_size=18,\n",
    "                   plabel_size=18,\n",
    "                   x_offset = .88,\n",
    "                   bar_colors = True,\n",
    "                   bar_labels = True,\n",
    "                   label_type = '3Q',\n",
    "                   bar = bar,\n",
    "                   box = box,\n",
    "                   violin = violin,\n",
    "                  )"
   ]
  },
  {
   "cell_type": "code",
   "execution_count": 70,
   "metadata": {},
   "outputs": [
    {
     "name": "stdout",
     "output_type": "stream",
     "text": [
      "{'MC-SENT-PAIR-QUAD': {'mean': 0.5443304393580637, 'std': 0.048827931156448914, 'medium': 0.5256511444356748, '1Q': 0.5209155485398579, '3Q': 0.5290055248618785, 'max': 0.6724546172059984, 'min': 0.5074980268350434, 'top_3Q_dist': 0.14344909234411996, 'kurtosis': 2.02902742211559}, 'MC-SENT-PAIR': {'mean': 0.5443304393580637, 'std': 0.048827931156448914, 'medium': 0.5256511444356748, '1Q': 0.5209155485398579, '3Q': 0.5290055248618785, 'max': 0.6724546172059984, 'min': 0.5074980268350434, 'top_3Q_dist': 0.14344909234411996, 'kurtosis': 2.02902742211559}}\n"
     ]
    }
   ],
   "source": [
    "ordered_framings4 = [\n",
    "    'MC-SENT-PAIR-QUAD',\n",
    "    'MC-SENT-PAIR',\n",
    "]\n",
    "\n",
    "stats4 = get_stats(results4,\n",
    "                  ordered_framings4,\n",
    "                 )\n",
    "\n",
    "print(stats4)"
   ]
  },
  {
   "cell_type": "code",
   "execution_count": 72,
   "metadata": {},
   "outputs": [
    {
     "name": "stdout",
     "output_type": "stream",
     "text": [
      "Levene:\n",
      "Stat is: 0.0\n",
      "P-value is: 1.0\n",
      "\n",
      "Bartlett:\n",
      "Stat is: 0.0\n",
      "P-value is: 1.0\n",
      "\n",
      "F:\n",
      "P-value is: 0.49999999999999994\n",
      "\n"
     ]
    }
   ],
   "source": [
    "# Perform Levene, Bartlett, and F test:\n",
    "# https://docs.scipy.org/doc/scipy/reference/generated/scipy.stats.levene.html#scipy.stats.levene\n",
    "# https://docs.scipy.org/doc/scipy/reference/generated/scipy.stats.bartlett.html\n",
    "# https://stackoverflow.com/questions/21494141/how-do-i-do-a-f-test-in-python\n",
    "\n",
    "mcsentpair = results4.loc[results4['framing']=='MC-SENT-PAIR']['best_val_accuracy']\n",
    "mcsentpairquad = results4.loc[results4['framing']=='MC-SENT-PAIR-QUAD']['best_val_accuracy']\n",
    "\n",
    "levene_stat, levene_p = levene(mcsentpair, mcsentpairquad)\n",
    "bartlett_stat, bartlett_p = bartlett(mcsentpair, mcsentpairquad)\n",
    "f_p = f.cdf(mcsentpairquad.var()/mcsentpair.var(),len(mcsentpairquad)-1,len(mcsentpair)-1)\n",
    "\n",
    "print(\"Levene:\")\n",
    "print(f\"Stat is: {levene_stat}\")\n",
    "print(f\"P-value is: {levene_p}\\n\")\n",
    "\n",
    "print(\"Bartlett:\")\n",
    "print(f\"Stat is: {bartlett_stat}\")\n",
    "print(f\"P-value is: {bartlett_p}\\n\")\n",
    "\n",
    "print(\"F:\")\n",
    "print(f\"P-value is: {f_p}\\n\")"
   ]
  },
  {
   "cell_type": "markdown",
   "metadata": {},
   "source": [
    "# Save Stuff"
   ]
  },
  {
   "cell_type": "code",
   "execution_count": null,
   "metadata": {},
   "outputs": [],
   "source": [
    "wd = os.path.dirname(os.path.abspath('__file__'))\n",
    "now = dt.now().strftime(\"%Y%m%d_%H%M\")\n",
    "\n",
    "f = f_violin\n",
    "f_type = 'violin'\n",
    "\n",
    "plot_name = os.path.join(wd, 'plots', f\"{DATASET}_plot_{f_type}_{now}.pdf\")\n",
    "stats_name = os.path.join(wd, 'stats', f\"{DATASET}_stats_{now}.json\")\n",
    "\n",
    "f.savefig(plot_name)\n",
    "with open(stats_name, 'w') as f:\n",
    "    f.write(json.dumps(stats))"
   ]
  }
 ],
 "metadata": {
  "kernelspec": {
   "display_name": "DL",
   "language": "python",
   "name": "dl"
  },
  "language_info": {
   "codemirror_mode": {
    "name": "ipython",
    "version": 3
   },
   "file_extension": ".py",
   "mimetype": "text/x-python",
   "name": "python",
   "nbconvert_exporter": "python",
   "pygments_lexer": "ipython3",
   "version": "3.7.7"
  }
 },
 "nbformat": 4,
 "nbformat_minor": 4
}

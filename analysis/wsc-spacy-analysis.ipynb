{
 "cells": [
  {
   "cell_type": "code",
   "execution_count": 1,
   "metadata": {},
   "outputs": [],
   "source": [
    "import os\n",
    "import json\n",
    "import pandas as pd\n",
    "import matplotlib.pyplot as plt\n",
    "from matplotlib import cm\n",
    "import numpy as np\n",
    "from datetime import datetime as dt"
   ]
  },
  {
   "cell_type": "markdown",
   "metadata": {},
   "source": [
    "# Load Data"
   ]
  },
  {
   "cell_type": "code",
   "execution_count": 2,
   "metadata": {},
   "outputs": [],
   "source": [
    "DATASET = 'wsc-spacy'\n",
    "wd = os.path.dirname('__file__')\n",
    "f_name = f\"{DATASET}_RESULTS.csv\"\n",
    "hp_name = f\"{DATASET}_HP_SPACE.json\"\n",
    "frame_count_name = f\"{DATASET}_FRAMING_COUNTS.json\"\n",
    "\n",
    "results = pd.read_csv(os.path.join(wd, f_name))\n",
    "hp_space = pd.read_json(os.path.join(wd, hp_name))\n",
    "\n",
    "with open(frame_count_name) as f:\n",
    "    frame_count = json.load(f)\n",
    "    "
   ]
  },
  {
   "cell_type": "code",
   "execution_count": 3,
   "metadata": {},
   "outputs": [
    {
     "name": "stdout",
     "output_type": "stream",
     "text": [
      "['Unnamed: 0', 'level_0', 'index', 'dataset', 'framing', 'learning_rate', 'batch_size', 'max_epochs', 'seed', 'best_val_accuracy', 'exp_name', 'best_iter', 'current_iter', 'total_iter', 'early_stop']\n",
      "\n",
      " (420, 15)\n",
      "['MC-MLM' 'P-SPAN' 'MC-SENT' 'MC-SENT-PAIR' 'MC-SENT-PLOSS' 'P-SENT'\n",
      " 'MC-SENT-SCALE']\n"
     ]
    }
   ],
   "source": [
    "print(list(results.columns.values))\n",
    "print(f\"\\n {results.shape}\")\n",
    "\n",
    "framings = results['framing'].unique()\n",
    "print(framings)"
   ]
  },
  {
   "cell_type": "code",
   "execution_count": 4,
   "metadata": {},
   "outputs": [
    {
     "name": "stdout",
     "output_type": "stream",
     "text": [
      "420\n",
      "420\n",
      "[3e-05, 2e-05, 1e-05]\n",
      "[40, 20, 10]\n",
      "[8, 16, 32, 64]\n"
     ]
    }
   ],
   "source": [
    "print(results.shape[0])\n",
    "print(len(results['exp_name'].unique()))\n",
    "print(list(results['learning_rate'].unique()))\n",
    "print(list(results['max_epochs'].unique()))\n",
    "print(list(results['batch_size'].unique()))"
   ]
  },
  {
   "cell_type": "code",
   "execution_count": 5,
   "metadata": {},
   "outputs": [
    {
     "name": "stdout",
     "output_type": "stream",
     "text": [
      "   learning_rate  batch_size  max_epochs    dataset\n",
      "0        0.00003           8          40  wsc-spacy\n",
      "1        0.00002          16          20  wsc-spacy\n",
      "2        0.00001          32          10  wsc-spacy\n",
      "3        0.00000          64           0  wsc-spacy\n"
     ]
    }
   ],
   "source": [
    "print(hp_space)"
   ]
  },
  {
   "cell_type": "markdown",
   "metadata": {},
   "source": [
    "# Analyze"
   ]
  },
  {
   "cell_type": "code",
   "execution_count": 6,
   "metadata": {},
   "outputs": [],
   "source": [
    "def make_box_plots(data,\n",
    "                   labels, \n",
    "                   key_frame = 'framing',\n",
    "                   key_acc = 'best_val_accuracy',\n",
    "                   x_size = 15,\n",
    "                   y_size = 5,\n",
    "                   y_min = 55,\n",
    "                   y_max = 100,\n",
    "                   y_tick = 15,\n",
    "                   y_offset = 1,\n",
    "                   x_offset = .85,\n",
    "                   splines_offset = 10,\n",
    "                   bar_trans = 0.3,\n",
    "                   colors = ['darkgrey',\n",
    "                             'peachpuff',\n",
    "                             'burlywood',\n",
    "                             'gold',\n",
    "                             'lightgreen',\n",
    "                             'skyblue',\n",
    "                             'plum',\n",
    "                             'darkgrey'\n",
    "                            ],\n",
    "                   bar_colors = True,\n",
    "                   bar_labels = True,\n",
    "                   adjusted_axes = True,\n",
    "                   title = None,\n",
    "                   showfliers = True,\n",
    "                   notch = False,\n",
    "                   majority = None,\n",
    "                   human = None,\n",
    "                   ylabel = 'Accuracy (%)',\n",
    "                   xlabel = 'Formalization',\n",
    "                   label_size = 18,\n",
    "                  ):\n",
    "    \n",
    "    all_scores = [[0]]\n",
    "    max_scores = [majority]\n",
    "    for label in labels:\n",
    "        dist = data.loc[data[key_frame]==label,key_acc]*100\n",
    "        all_scores.append(dist)\n",
    "        max_scores.append(max(dist))\n",
    "    \n",
    "    all_scores.append([0])\n",
    "    max_scores.append(human)\n",
    "    \n",
    "    fig, ax = plt.subplots(figsize=(x_size, y_size))\n",
    "    \n",
    "    # format chart\n",
    "    if not title is None:\n",
    "        ax.set_title(title)\n",
    "    \n",
    "    ax.set_ylim(y_min, y_max)\n",
    "    ax.set_yticks(np.arange(y_min, y_max+1, y_tick))\n",
    "    \n",
    "    \n",
    "    if not majority is None:\n",
    "        labels.insert(0,'Majority')\n",
    "        \n",
    "    if not human is None:\n",
    "        labels.append('Human')\n",
    "    \n",
    "    ax.set_xticklabels(labels)\n",
    "    \n",
    "    if adjusted_axes:\n",
    "        # Adjust plot borders\n",
    "        ax.spines['right'].set_visible(False)\n",
    "        ax.spines['top'].set_visible(False)\n",
    "        ax.spines['left'].set_position(('outward', splines_offset))\n",
    "        ax.spines['bottom'].set_position(('outward', splines_offset))\n",
    "    \n",
    "    ticks = np.arange(len(labels))+1\n",
    "    \n",
    "    ax.set_ylabel(ylabel, fontsize=label_size)\n",
    "    ax.set_xlabel(xlabel, fontsize=label_size)\n",
    "    \n",
    "    # make plots\n",
    "    if not bar_colors:\n",
    "        colors = None\n",
    "    \n",
    "    ax.bar(ticks, max_scores, color = colors, alpha=bar_trans)\n",
    "    ax.boxplot(all_scores, notch = notch, showfliers = showfliers)\n",
    "    \n",
    "    # add accuracy values\n",
    "    if bar_labels:\n",
    "        for i, v in enumerate(max_scores):\n",
    "            ax.text(i + x_offset, v + y_offset, \"{:.2f}%\".format(v))\n",
    "    \n",
    "    # Adjust layout\n",
    "    fig.tight_layout()\n",
    "    \n",
    "    return fig"
   ]
  },
  {
   "cell_type": "code",
   "execution_count": 7,
   "metadata": {},
   "outputs": [
    {
     "data": {
      "image/png": "[encoded data removed]",
      "text/plain": [
       "<Figure size 1080x360 with 1 Axes>"
      ]
     },
     "metadata": {
      "needs_background": "light"
     },
     "output_type": "display_data"
    }
   ],
   "source": [
    "ordered_framings = ['P-SPAN',\n",
    "                   'P-SENT',\n",
    "                   'MC-SENT-PLOSS',\n",
    "                   'MC-SENT-PAIR',\n",
    "                   'MC-SENT',\n",
    "                   'MC-MLM']\n",
    "\n",
    "f = make_box_plots(results,\n",
    "                   ordered_framings,\n",
    "                   bar_colors = True,\n",
    "                   bar_labels = True,\n",
    "                   adjusted_axes = True,\n",
    "                   title = None,\n",
    "                   showfliers = True,\n",
    "                   notch = False,\n",
    "                   majority = 63.46153846153846,\n",
    "                   human = 100.0,\n",
    "                   label_size=13,\n",
    "                   x_offset = .88,\n",
    "                  )"
   ]
  },
  {
   "cell_type": "code",
   "execution_count": 8,
   "metadata": {},
   "outputs": [],
   "source": [
    "def get_stats(data,\n",
    "              labels,\n",
    "              key_frame = 'framing',\n",
    "              key_acc = 'best_val_accuracy',\n",
    "             ):\n",
    "    results = {label : {} for label in labels}\n",
    "    \n",
    "    for label, value in results.items():\n",
    "        dist = data.loc[data[key_frame]==label,key_acc]\n",
    "        \n",
    "        value['mean'] = dist.mean()\n",
    "        value['std'] = dist.std()\n",
    "        value['medium'] = dist.median()\n",
    "        value['1Q'] = dist.quantile(q=0.25)\n",
    "        value['3Q'] = dist.quantile(q=0.75)\n",
    "    \n",
    "    return results"
   ]
  },
  {
   "cell_type": "code",
   "execution_count": 9,
   "metadata": {},
   "outputs": [
    {
     "name": "stdout",
     "output_type": "stream",
     "text": [
      "{'P-SPAN': {'mean': 0.6560897435897436, 'std': 0.04130488475345711, 'medium': 0.6346153846153846, '1Q': 0.6346153846153846, '3Q': 0.6538461538461539}, 'P-SENT': {'mean': 0.6397435897316667, 'std': 0.04570301690147087, 'medium': 0.6346153846, '1Q': 0.6346153846, '3Q': 0.6346153846}, 'MC-SENT-PLOSS': {'mean': 0.6729166666566666, 'std': 0.055377611281348584, 'medium': 0.6538461538, '1Q': 0.6442307692, '3Q': 0.6730769231}, 'MC-SENT-PAIR': {'mean': 0.7073717948783333, 'std': 0.08220854422519047, 'medium': 0.6730769231, '1Q': 0.6442307692, '3Q': 0.781249999975}, 'MC-SENT': {'mean': 0.7584935897450003, 'std': 0.07267205114493892, 'medium': 0.7692307692, '1Q': 0.68990384615, '3Q': 0.81971153845}, 'MC-MLM': {'mean': 0.8485576923076922, 'std': 0.02476098004492304, 'medium': 0.8461538461538461, '1Q': 0.8365384615384616, '3Q': 0.8653846153846154}}\n"
     ]
    }
   ],
   "source": [
    "ordered_framings = ['P-SPAN',\n",
    "                   'P-SENT',\n",
    "                   'MC-SENT-PLOSS',\n",
    "                   'MC-SENT-PAIR',\n",
    "                   'MC-SENT',\n",
    "                   'MC-MLM']\n",
    "\n",
    "stats = get_stats(results,\n",
    "                  ordered_framings,\n",
    "                 )\n",
    "\n",
    "print(stats)"
   ]
  },
  {
   "cell_type": "markdown",
   "metadata": {},
   "source": [
    "# Save Stuff"
   ]
  },
  {
   "cell_type": "code",
   "execution_count": 10,
   "metadata": {},
   "outputs": [],
   "source": [
    "wd = os.path.dirname('__file__')\n",
    "now = dt.now().strftime(\"%Y%m%d_%H%M\")\n",
    "plot_name = os.path.join(wd, f\"{DATASET}_plot_{now}.png\")\n",
    "stats_name = os.path.join(wd, f\"{DATASET}_stats_{now}.json\")\n",
    "\n",
    "f.savefig(plot_name)\n",
    "with open(stats_name, 'w') as f:\n",
    "    f.write(json.dumps(stats))"
   ]
  }
 ],
 "metadata": {
  "kernelspec": {
   "display_name": "DL",
   "language": "python",
   "name": "dl"
  },
  "language_info": {
   "codemirror_mode": {
    "name": "ipython",
    "version": 3
   },
   "file_extension": ".py",
   "mimetype": "text/x-python",
   "name": "python",
   "nbconvert_exporter": "python",
   "pygments_lexer": "ipython3",
   "version": "3.8.2"
  }
 },
 "nbformat": 4,
 "nbformat_minor": 4
}

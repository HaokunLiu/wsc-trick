{
 "cells": [
  {
   "cell_type": "code",
   "execution_count": 59,
   "metadata": {},
   "outputs": [],
   "source": [
    "import os\n",
    "import json\n",
    "import pandas as pd\n",
    "import matplotlib.pyplot as plt\n",
    "from matplotlib import cm\n",
    "import numpy as np\n",
    "from datetime import datetime as dt"
   ]
  },
  {
   "cell_type": "markdown",
   "metadata": {},
   "source": [
    "# Load Data"
   ]
  },
  {
   "cell_type": "code",
   "execution_count": 24,
   "metadata": {},
   "outputs": [],
   "source": [
    "DATASET = 'wsc-spacy'\n",
    "wd = os.path.dirname('__file__')\n",
    "f_name = f'{DATASET}_RESULTS.csv'\n",
    "results = pd.read_csv(os.path.join(f_name))\n",
    "\n",
    "#f_name_MCMLM_PSPAN = 'raw_results_wsccross_wscspacy_MCMLM_PSPAN.csv'\n",
    "#f_name_OTHERS = 'wsc-spacy.csv'\n",
    "\n",
    "#results1 = pd.read_csv(os.path.join(wd, f_name_MCMLM_PSPAN))\n",
    "#results2 = pd.read_csv(os.path.join(wd, f_name_OTHERS))\n",
    "\n",
    "\n",
    "#results = pd.concat([results1, results2]).reset_index()"
   ]
  },
  {
   "cell_type": "markdown",
   "metadata": {},
   "source": [
    "# Data Exploration"
   ]
  },
  {
   "cell_type": "code",
   "execution_count": 25,
   "metadata": {},
   "outputs": [
    {
     "name": "stdout",
     "output_type": "stream",
     "text": [
      "['Unnamed: 0', 'level_0', 'index', 'dataset', 'framing', 'learning_rate', 'batch_size', 'max_epochs', 'seed', 'best_val_accuracy', 'exp_name', 'best_iter', 'current_iter', 'total_iter', 'early_stop']\n",
      "\n",
      " (135, 15)\n",
      "['MC-MLM' 'P-SPAN' 'MC-SENT' 'MC-SENT-PAIR' 'MC-SENT-PLOSS' 'P-SENT'\n",
      " 'MC-SENT-SCALE']\n"
     ]
    }
   ],
   "source": [
    "print(list(results.columns.values))\n",
    "print(f\"\\n {results.shape}\")\n",
    "\n",
    "framings = results['framing'].unique()\n",
    "print(framings)"
   ]
  },
  {
   "cell_type": "code",
   "execution_count": 26,
   "metadata": {},
   "outputs": [
    {
     "name": "stdout",
     "output_type": "stream",
     "text": [
      "Kept 135\n",
      "{'MC-MLM': 31, 'P-SPAN': 37, 'MC-SENT': 13, 'MC-SENT-PAIR': 15, 'MC-SENT-PLOSS': 13, 'P-SENT': 16, 'MC-SENT-SCALE': 10}\n"
     ]
    }
   ],
   "source": [
    "lr_c = [1e-5, 2e-5, 3e-5]\n",
    "bs_c = [8, 16, 32, 64]\n",
    "ep_c = [10, 20, 40]\n",
    "data = 'wsc-spacy'\n",
    "\n",
    "lr = 'learning_rate'\n",
    "bs = 'batch_size'\n",
    "ep = 'max_epochs'\n",
    "d = 'dataset'\n",
    "\n",
    "keep = []\n",
    "\n",
    "frames = {key:0 for key in framings}\n",
    "\n",
    "for label, row in results.iterrows():\n",
    "    if (row['dataset'] == data and\n",
    "        row['learning_rate'] in lr_c and\n",
    "        row['batch_size'] in bs_c and\n",
    "        row['max_epochs'] in ep_c):\n",
    "        keep.append(label)\n",
    "        frames[row['framing']] += 1\n",
    "\n",
    "print(f\"Kept {len(keep)}\")\n",
    "print(frames)"
   ]
  },
  {
   "cell_type": "markdown",
   "metadata": {},
   "source": [
    "# Switch from Markdown to Save\n",
    "\n",
    "wd = os.path.dirname('__file__')\n",
    "out_results = os.path.join(wd, f\"{DATASET}_RESULTS.csv\")\n",
    "framing_counts = os.path.join(wd,f\"{DATASET}_FRAMING_COUNTS.json\")\n",
    "\n",
    "f_results = results.loc[keep,:].reset_index()\n",
    "f_results.to_csv(out_results)\n",
    "\n",
    "with open(framing_counts, 'w') as f:\n",
    "    f.write(json.dumps(framing_counts))"
   ]
  },
  {
   "cell_type": "markdown",
   "metadata": {},
   "source": [
    "# Analyze"
   ]
  },
  {
   "cell_type": "code",
   "execution_count": 169,
   "metadata": {},
   "outputs": [],
   "source": [
    "def make_box_plots(data,\n",
    "                   labels, \n",
    "                   key_frame = 'framing',\n",
    "                   key_acc = 'best_val_accuracy',\n",
    "                   x_size = 10,\n",
    "                   y_size = 5,\n",
    "                   y_min = 55,\n",
    "                   y_max = 100,\n",
    "                   y_tick = 15,\n",
    "                   y_offset = 1,\n",
    "                   x_offset = .8,\n",
    "                   splines_offset = 10,\n",
    "                   bar_trans = 0.3,\n",
    "                   colors = ['darkgrey',\n",
    "                             'peachpuff',\n",
    "                             'burlywood',\n",
    "                             'gold',\n",
    "                             'lightgreen',\n",
    "                             'skyblue',\n",
    "                             'plum',\n",
    "                            ],\n",
    "                   bar_colors = True,\n",
    "                   bar_labels = True,\n",
    "                   adjusted_axes = True,\n",
    "                   title = None,\n",
    "                   showfliers = True,\n",
    "                   notch = False,\n",
    "                  ):\n",
    "    \n",
    "    all_scores = []\n",
    "    max_scores = []\n",
    "    for label in labels:\n",
    "        dist = data.loc[data[key_frame]==label,key_acc]*100\n",
    "        all_scores.append(dist)\n",
    "        max_scores.append(max(dist))\n",
    "    \n",
    "    fig, ax = plt.subplots(figsize=(x_size, y_size))\n",
    "    if not title is None:\n",
    "        ax.set_title(title)\n",
    "    \n",
    "    ax.set_ylim(y_min, y_max)\n",
    "    ax.set_yticks(np.arange(y_min, y_max+1, y_tick))\n",
    "    ax.set_xticklabels(labels)\n",
    "    \n",
    "    if adjusted_axes:\n",
    "        # Adjust plot borders\n",
    "        ax.spines['right'].set_visible(False)\n",
    "        ax.spines['top'].set_visible(False)\n",
    "        ax.spines['left'].set_position(('outward', splines_offset))\n",
    "        ax.spines['bottom'].set_position(('outward', splines_offset))\n",
    "    \n",
    "    ticks = np.arange(len(labels))+1\n",
    "    \n",
    "    if not bar_colors:\n",
    "        colors = None\n",
    "    \n",
    "    ax.bar(ticks, max_scores, color = colors, alpha=bar_trans)\n",
    "    ax.boxplot(all_scores, notch = notch, showfliers = showfliers)\n",
    "    \n",
    "    if bar_labels:\n",
    "        for i, v in enumerate(max_scores):\n",
    "            ax.text(i + x_offset, v + y_offset, \"{:.2f}%\".format(v))\n",
    "    \n",
    "    # Adjust layout\n",
    "    fig.tight_layout()\n",
    "    \n",
    "    return fig"
   ]
  },
  {
   "cell_type": "code",
   "execution_count": 170,
   "metadata": {},
   "outputs": [
    {
     "data": {
      "image/png": "[encoded data removed]",
      "text/plain": [
       "<Figure size 720x360 with 1 Axes>"
      ]
     },
     "metadata": {
      "needs_background": "light"
     },
     "output_type": "display_data"
    }
   ],
   "source": [
    "ordered_framings = ['MC-SENT-SCALE',\n",
    "                   'P-SPAN',\n",
    "                   'P-SENT',\n",
    "                   'MC-SENT-PLOSS',\n",
    "                   'MC-SENT-PAIR',\n",
    "                   'MC-SENT',\n",
    "                   'MC-MLM']\n",
    "\n",
    "f = make_box_plots(results,\n",
    "                   ordered_framings,\n",
    "                   bar_colors = True,\n",
    "                   bar_labels = True,\n",
    "                   adjusted_axes = True,\n",
    "                   title = None,\n",
    "                   showfliers = True,\n",
    "                   notch = False,\n",
    "                  )"
   ]
  },
  {
   "cell_type": "code",
   "execution_count": 176,
   "metadata": {},
   "outputs": [],
   "source": [
    "def get_stats(data,\n",
    "              labels,\n",
    "              key_frame = 'framing',\n",
    "              key_acc = 'best_val_accuracy',\n",
    "             ):\n",
    "    results = {label : {} for label in labels}\n",
    "    \n",
    "    for label, value in results.items():\n",
    "        dist = data.loc[data[key_frame]==label,key_acc]\n",
    "        \n",
    "        value['mean'] = dist.mean()\n",
    "        value['std'] = dist.std()\n",
    "        value['medium'] = dist.median()\n",
    "        value['1Q'] = dist.quantile(q=0.25)\n",
    "        value['3Q'] = dist.quantile(q=0.75)\n",
    "    \n",
    "    return results"
   ]
  },
  {
   "cell_type": "code",
   "execution_count": 177,
   "metadata": {},
   "outputs": [
    {
     "name": "stdout",
     "output_type": "stream",
     "text": [
      "{'MC-SENT-SCALE': {'mean': 0.66538461539, 'std': 0.01489608980943598, 'medium': 0.6682692308, '1Q': 0.656249999975, '3Q': 0.6730769231}, 'P-SPAN': {'mean': 0.6587837837837837, 'std': 0.04547565415603977, 'medium': 0.6346153846153846, '1Q': 0.6346153846153846, '3Q': 0.6826923076923077}, 'P-SENT': {'mean': 0.66406249999375, 'std': 0.04921333199673672, 'medium': 0.6346153846, '1Q': 0.6346153846, '3Q': 0.6634615385}, 'MC-SENT-PLOSS': {'mean': 0.6775147928846154, 'std': 0.06373476835109211, 'medium': 0.6442307692, '1Q': 0.6442307692, '3Q': 0.6923076923}, 'MC-SENT-PAIR': {'mean': 0.7121794871933333, 'std': 0.09226093901097329, 'medium': 0.6730769231, '1Q': 0.64903846155, '3Q': 0.7884615384999999}, 'MC-SENT': {'mean': 0.7758875739615385, 'std': 0.07091790136107703, 'medium': 0.8076923077, '1Q': 0.7211538462, '3Q': 0.8269230769}, 'MC-MLM': {'mean': 0.8415012406947892, 'std': 0.015278271830457204, 'medium': 0.8365384615384616, '1Q': 0.8317307692307692, '3Q': 0.8461538461538461}}\n"
     ]
    }
   ],
   "source": [
    "stats = get_stats(results,\n",
    "                  ordered_framings,\n",
    "                 )\n",
    "\n",
    "print(stats)"
   ]
  },
  {
   "cell_type": "markdown",
   "metadata": {},
   "source": [
    "# Save Stuff"
   ]
  },
  {
   "cell_type": "code",
   "execution_count": 178,
   "metadata": {},
   "outputs": [],
   "source": [
    "wd = os.path.dirname('__file__')\n",
    "now = dt.now().strftime(\"%Y%m%d_%H%M\")\n",
    "plot_name = os.path.join(wd, f\"{DATASET}_plot_{now}.png\")\n",
    "stats_name = os.path.join(wd, f\"{DATASET}_stats_{now}.json\")\n",
    "\n",
    "f.savefig(plot_name)\n",
    "with open(stats_name, 'w') as f:\n",
    "    f.write(json.dumps(stats))"
   ]
  }
 ],
 "metadata": {
  "kernelspec": {
   "display_name": "DL",
   "language": "python",
   "name": "dl"
  },
  "language_info": {
   "codemirror_mode": {
    "name": "ipython",
    "version": 3
   },
   "file_extension": ".py",
   "mimetype": "text/x-python",
   "name": "python",
   "nbconvert_exporter": "python",
   "pygments_lexer": "ipython3",
   "version": "3.7.7"
  }
 },
 "nbformat": 4,
 "nbformat_minor": 4
}

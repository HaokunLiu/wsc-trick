{
 "cells": [
  {
   "cell_type": "code",
   "execution_count": 1,
   "metadata": {},
   "outputs": [],
   "source": [
    "import os\n",
    "import json\n",
    "import pandas as pd\n",
    "import matplotlib\n",
    "from matplotlib import rc\n",
    "import matplotlib.pyplot as plt\n",
    "from matplotlib import cm\n",
    "import numpy as np\n",
    "from datetime import datetime as dt"
   ]
  },
  {
   "cell_type": "code",
   "execution_count": 2,
   "metadata": {},
   "outputs": [],
   "source": [
    "rc('font', **{'family': 'serif', 'serif': ['Computer Modern']})\n",
    "rc('text', usetex=True)"
   ]
  },
  {
   "cell_type": "markdown",
   "metadata": {},
   "source": [
    "# Load Data"
   ]
  },
  {
   "cell_type": "code",
   "execution_count": 3,
   "metadata": {},
   "outputs": [],
   "source": [
    "DATASET = 'wsc-spacy'\n",
    "wd = os.path.dirname(os.path.abspath('__file__'))\n",
    "f_name = f\"{DATASET}_RESULTS.csv\"\n",
    "hp_name = f\"{DATASET}_HP_SPACE.json\"\n",
    "frame_count_name = f\"{DATASET}_FRAMING_COUNTS.json\"\n",
    "\n",
    "results = pd.read_csv(os.path.join(wd, f_name))\n",
    "hp_space = pd.read_json(os.path.join(wd, hp_name))\n",
    "\n",
    "with open(frame_count_name) as f:\n",
    "    frame_count = json.load(f)\n",
    "    "
   ]
  },
  {
   "cell_type": "code",
   "execution_count": 4,
   "metadata": {},
   "outputs": [
    {
     "name": "stdout",
     "output_type": "stream",
     "text": [
      "['Unnamed: 0', 'level_0', 'index', 'dataset', 'framing', 'learning_rate', 'batch_size', 'max_epochs', 'seed', 'best_val_accuracy', 'exp_name', 'best_iter', 'current_iter', 'total_iter', 'early_stop']\n",
      "\n",
      " (420, 15)\n",
      "['MC-MLM' 'P-SPAN' 'MC-SENT' 'MC-SENT-PAIR' 'MC-SENT-PLOSS' 'P-SENT'\n",
      " 'MC-SENT-SCALE']\n"
     ]
    }
   ],
   "source": [
    "print(list(results.columns.values))\n",
    "print(f\"\\n {results.shape}\")\n",
    "\n",
    "framings = results['framing'].unique()\n",
    "print(framings)"
   ]
  },
  {
   "cell_type": "code",
   "execution_count": 5,
   "metadata": {},
   "outputs": [
    {
     "name": "stdout",
     "output_type": "stream",
     "text": [
      "420\n",
      "420\n",
      "[3e-05, 2e-05, 1e-05]\n",
      "[40, 20, 10]\n",
      "[8, 16, 32, 64]\n"
     ]
    }
   ],
   "source": [
    "print(results.shape[0])\n",
    "print(len(results['exp_name'].unique()))\n",
    "print(list(results['learning_rate'].unique()))\n",
    "print(list(results['max_epochs'].unique()))\n",
    "print(list(results['batch_size'].unique()))"
   ]
  },
  {
   "cell_type": "code",
   "execution_count": 6,
   "metadata": {},
   "outputs": [
    {
     "name": "stdout",
     "output_type": "stream",
     "text": [
      "   learning_rate  batch_size  max_epochs    dataset\n",
      "0        0.00003           8          40  wsc-spacy\n",
      "1        0.00002          16          20  wsc-spacy\n",
      "2        0.00001          32          10  wsc-spacy\n",
      "3        0.00000          64           0  wsc-spacy\n"
     ]
    }
   ],
   "source": [
    "print(hp_space)"
   ]
  },
  {
   "cell_type": "markdown",
   "metadata": {},
   "source": [
    "# Analyze"
   ]
  },
  {
   "cell_type": "code",
   "execution_count": 7,
   "metadata": {},
   "outputs": [],
   "source": [
    "def adjacent_values(vals, q1, q3):\n",
    "    upper_adjacent_value = q3 + (q3 - q1) * 1.5\n",
    "    upper_adjacent_value = np.clip(upper_adjacent_value, q3, vals[-1])\n",
    "\n",
    "    lower_adjacent_value = q1 - (q3 - q1) * 1.5\n",
    "    lower_adjacent_value = np.clip(lower_adjacent_value, vals[0], q1)\n",
    "    return lower_adjacent_value, upper_adjacent_value"
   ]
  },
  {
   "cell_type": "code",
   "execution_count": 98,
   "metadata": {},
   "outputs": [],
   "source": [
    "def make_box_plots(data,\n",
    "                   labels,\n",
    "                   experiment_labels, \n",
    "                   key_frame = 'framing',\n",
    "                   key_acc = 'best_val_accuracy',\n",
    "                   x_size = 15,\n",
    "                   y_size = 5,\n",
    "                   y_min = 55,\n",
    "                   y_max = 100,\n",
    "                   y_tick = 15,\n",
    "                   y_offset = 1,\n",
    "                   x_offset = .85,\n",
    "                   splines_offset = 10,\n",
    "                   bar_trans = 0.3,\n",
    "                   colors = ['darkgrey',\n",
    "                             'peachpuff',\n",
    "                             'burlywood',\n",
    "                             'gold',\n",
    "                             'lightgreen',\n",
    "                             'skyblue',\n",
    "                             'plum',\n",
    "                             'darkgrey'\n",
    "                            ],\n",
    "                   bar_colors = True,\n",
    "                   bar_labels = True,\n",
    "                   adjusted_axes = True,\n",
    "                   title = None,\n",
    "                   showfliers = True,\n",
    "                   notch = False,\n",
    "                   majority = None,\n",
    "                   human = None,\n",
    "                   ylabel = 'Accuracy (%)',\n",
    "                   xlabel = 'Formalization',\n",
    "                   label_size = 18,\n",
    "                   tick_size = 12,\n",
    "                   plabel_size = 12,\n",
    "                   bar = False,\n",
    "                   label_type = 'max',\n",
    "                   box = True,\n",
    "                   violin = False,\n",
    "                   titlepad=None,\n",
    "                   titleh=None,\n",
    "                  ):    \n",
    "    scores = {\n",
    "        'all'    : [],\n",
    "        'max'    : [],\n",
    "        '3Q'     : [],\n",
    "        'median' : [],\n",
    "    }\n",
    "    \n",
    "    add_x_offset = {\n",
    "        'max'    : 0,\n",
    "        '3Q'     : 0.4,\n",
    "        'median' : 0.45,\n",
    "    }\n",
    "    \n",
    "    add_y_offset = {\n",
    "        'max'    : 0,\n",
    "        '3Q'     : -y_offset,\n",
    "        'median' : -y_offset,\n",
    "    }  \n",
    "        \n",
    "    for label in experiment_labels:\n",
    "        dist = data.loc[data[key_frame]==label,key_acc]*100\n",
    "        scores['all'].append(sorted(dist.to_numpy()))\n",
    "        scores['max'].append(max(dist))\n",
    "        scores['3Q'].append(dist.quantile(q=0.75))\n",
    "        scores['median'].append(dist.median())\n",
    "    \n",
    "    n_samples = len(scores['all'][0])\n",
    "    \n",
    "    # add majority class\n",
    "    if not majority is None:\n",
    "        labels.insert(0,'Majority')\n",
    "        if bar:\n",
    "            scores['all'].insert(0,[0])\n",
    "        else:\n",
    "            scores['all'].insert(0,[majority]*n_samples)\n",
    "        \n",
    "        for key, item in scores.items():\n",
    "            if key != 'all':\n",
    "                item.insert(0,majority)\n",
    "    \n",
    "    # add human results\n",
    "    if not human is None:\n",
    "        labels.append('Human')\n",
    "        if bar:\n",
    "            scores['all'].append([0])\n",
    "        else:\n",
    "            scores['all'].append([human]*n_samples)\n",
    "\n",
    "        for key, item in scores.items():\n",
    "            if key != 'all':\n",
    "                item.append(human)\n",
    "    \n",
    "    \n",
    "    # create figure\n",
    "    fig, ax = plt.subplots(figsize=(x_size, y_size))\n",
    "    \n",
    "    # format chart\n",
    "    if not title is None:\n",
    "#         ax.set_title(title, fontsize=label_size, pad=titlepad)\n",
    "        ax.text(len(labels)/2+0.5,\n",
    "                titleh,\n",
    "                title,\n",
    "                fontsize=label_size,\n",
    "                ha=\"center\",\n",
    "                )\n",
    "    \n",
    "    # format labels\n",
    "    ax.set_ylim(y_min, y_max)\n",
    "    ax.set_yticks(np.arange(y_min, y_max+1, y_tick))\n",
    "    ax.set_xticklabels(labels)\n",
    "    ax.tick_params(labelsize=tick_size)\n",
    "    \n",
    "    if adjusted_axes:\n",
    "        # Adjust plot borders\n",
    "        ax.spines['right'].set_visible(False)\n",
    "        ax.spines['top'].set_visible(False)\n",
    "        ax.spines['left'].set_position(('outward', splines_offset))\n",
    "        ax.spines['bottom'].set_position(('outward', splines_offset))\n",
    "    \n",
    "    ticks = np.arange(len(labels))+1\n",
    "    \n",
    "    ax.set_ylabel(ylabel, fontsize=label_size)\n",
    "    ax.set_xlabel(xlabel, fontsize=label_size)\n",
    "    \n",
    "    # make plots    \n",
    "    assert label_type in scores.keys(), f\"label_type {label_type} not supported\"\n",
    "    \n",
    "    if bar:\n",
    "        # bar chart\n",
    "        if not bar_colors:\n",
    "            colors = None\n",
    "        ax.bar(ticks, scores[label_type], color = colors, alpha=bar_trans)\n",
    "        \n",
    "    if box:\n",
    "        # box plot\n",
    "        ax.boxplot(scores['all'], notch = notch, showfliers = showfliers)\n",
    "        \n",
    "    if violin:\n",
    "        # violin plot\n",
    "        ax.set_xticks(ticks)\n",
    "        \n",
    "        parts = ax.violinplot(scores['all'], positions = ticks, showmedians = False, showextrema=False, bw_method='silverman')\n",
    "        \n",
    "        if bar_colors:\n",
    "            for pc, color in zip(parts['bodies'], colors):\n",
    "                pc.set_facecolor(color)\n",
    "                pc.set_alpha(.5)\n",
    "                pc.set_edgecolor('black')\n",
    "\n",
    "        quartile1, medians, quartile3 = np.percentile(scores['all'], [25, 50, 75], axis=1)\n",
    "        whiskers = np.array([\n",
    "            adjacent_values(sorted_array, q1, q3)\n",
    "            for sorted_array, q1, q3 in zip(scores['all'], quartile1, quartile3)])\n",
    "        whiskersMin, whiskersMax = whiskers[:, 0], whiskers[:, 1]\n",
    "\n",
    "        inds = np.arange(1, len(medians) + 1)\n",
    "        ax.scatter(inds[1:len(inds)-1], medians[1:len(inds)-1], marker='_', color='orange', s=1000, zorder=3)\n",
    "        ax.vlines(inds, quartile1, quartile3, color='k', linestyle='-', lw=5)\n",
    "        ax.vlines(inds, whiskersMin, whiskersMax, color='k', linestyle='-', lw=1)\n",
    "                \n",
    "    \n",
    "    # add accuracy values\n",
    "    for i, v in enumerate(scores[label_type]):\n",
    "        if bar_labels or (i==0 or i==len(scores[label_type])-1):\n",
    "            \n",
    "            x=add_x_offset[label_type]\n",
    "            y=add_y_offset[label_type]\n",
    "            \n",
    "            if ((not human is None and i == len(scores[label_type])-1)\n",
    "                or (not majority is None and i == 0)):\n",
    "                x = 0\n",
    "                y = 0\n",
    "                \n",
    "            ax.text(i + x_offset + x,\n",
    "                    v + y_offset + y,\n",
    "                    \"{:.1f}%\".format(v),\n",
    "                    fontsize=plabel_size,\n",
    "                   )\n",
    "    \n",
    "    # Adjust layout\n",
    "    fig.tight_layout()\n",
    "    \n",
    "    return fig"
   ]
  },
  {
   "cell_type": "code",
   "execution_count": 110,
   "metadata": {},
   "outputs": [
    {
     "data": {
      "image/png": "[encoded data removed]",
      "text/plain": [
       "<Figure size 1440x252 with 1 Axes>"
      ]
     },
     "metadata": {
      "needs_background": "light"
     },
     "output_type": "display_data"
    }
   ],
   "source": [
    "bar = False\n",
    "box = False\n",
    "violin = True\n",
    "\n",
    "ordered_framings = ['P-SPAN',\n",
    "                   'P-SENT',\n",
    "                   'MC-SENT-PLOSS',\n",
    "                   'MC-SENT-PAIR',\n",
    "                   'MC-SENT',\n",
    "                   'MC-MLM']\n",
    "\n",
    "chart_labels = ['P-Span',\n",
    "               'P-Sent',\n",
    "               'MC-Sent-NoPairLoss',\n",
    "               'MC-Sent-NoSoftmax',\n",
    "               'MC-Sent',\n",
    "               'MC-MLM']\n",
    "\n",
    "f_violin = make_box_plots(results,\n",
    "                   chart_labels,\n",
    "                   ordered_framings,\n",
    "                   adjusted_axes = True,\n",
    "                   title = 'WSC',\n",
    "                   titleh=96,\n",
    "                   showfliers = True,\n",
    "                   x_size = 20,\n",
    "                   y_size = 3.5,\n",
    "                   y_min = 40,\n",
    "                   y_max = 100,\n",
    "                   y_tick = 20,\n",
    "                   notch = False,\n",
    "                   ylabel = r'Accuracy (\\%)',\n",
    "                   xlabel = None,\n",
    "                   majority = 63.46153846153846,\n",
    "                   human = 100.0,\n",
    "                   label_size=20,\n",
    "                   tick_size=18,\n",
    "                   plabel_size=18,\n",
    "                   x_offset = .88,\n",
    "                   bar_colors = True,\n",
    "                   bar_labels = True,\n",
    "                   label_type = '3Q',\n",
    "                   bar = bar,\n",
    "                   box = box,\n",
    "                   violin = violin,\n",
    "                  )"
   ]
  },
  {
   "cell_type": "code",
   "execution_count": 54,
   "metadata": {},
   "outputs": [],
   "source": [
    "def get_stats(data,\n",
    "              labels,\n",
    "              key_frame = 'framing',\n",
    "              key_acc = 'best_val_accuracy',\n",
    "             ):\n",
    "    results = {label : {} for label in labels}\n",
    "    \n",
    "    for label, value in results.items():\n",
    "        dist = data.loc[data[key_frame]==label,key_acc]\n",
    "        \n",
    "        value['mean'] = dist.mean()\n",
    "        value['std'] = dist.std()\n",
    "        value['medium'] = dist.median()\n",
    "        value['1Q'] = dist.quantile(q=0.25)\n",
    "        value['3Q'] = dist.quantile(q=0.75)\n",
    "        value['max'] = max(dist)\n",
    "        value['min'] = min(dist)\n",
    "        value['top_3Q_dist'] = max(dist)-dist.quantile(q=0.75)\n",
    "        value['kurtosis'] = dist.kurtosis()\n",
    "    \n",
    "    return results"
   ]
  },
  {
   "cell_type": "code",
   "execution_count": 55,
   "metadata": {},
   "outputs": [
    {
     "name": "stdout",
     "output_type": "stream",
     "text": [
      "{'P-SPAN': {'mean': 0.6560897435897436, 'std': 0.04130488475345711, 'medium': 0.6346153846153846, '1Q': 0.6346153846153846, '3Q': 0.6538461538461539, 'max': 0.7596153846153846, 'min': 0.5865384615384616, 'top_3Q_dist': 0.10576923076923073, 'kurtosis': 0.28236034424073564}, 'P-SENT': {'mean': 0.6397435897316667, 'std': 0.04570301690147087, 'medium': 0.6346153846, '1Q': 0.6346153846, '3Q': 0.6346153846, 'max': 0.7788461538, 'min': 0.3653846154, 'top_3Q_dist': 0.1442307692, 'kurtosis': 24.15578898418391}, 'MC-SENT-PLOSS': {'mean': 0.6729166666566666, 'std': 0.055377611281348584, 'medium': 0.6538461538, '1Q': 0.6442307692, '3Q': 0.6730769231, 'max': 0.8653846154000001, 'min': 0.6057692308, 'top_3Q_dist': 0.1923076923000001, 'kurtosis': 5.360475714706027}, 'MC-SENT-PAIR': {'mean': 0.7073717948783333, 'std': 0.08220854422519047, 'medium': 0.6730769231, '1Q': 0.6442307692, '3Q': 0.781249999975, 'max': 0.875, 'min': 0.6057692308, 'top_3Q_dist': 0.093750000025, 'kurtosis': -0.7931829542389299}, 'MC-SENT': {'mean': 0.7584935897450003, 'std': 0.07267205114493892, 'medium': 0.7692307692, '1Q': 0.68990384615, '3Q': 0.81971153845, 'max': 0.875, 'min': 0.6153846154, 'top_3Q_dist': 0.05528846155, 'kurtosis': -1.1858235008842613}, 'MC-MLM': {'mean': 0.8485576923076922, 'std': 0.02476098004492304, 'medium': 0.8461538461538461, '1Q': 0.8365384615384616, '3Q': 0.8653846153846154, 'max': 0.9230769230769232, 'min': 0.7692307692307693, 'top_3Q_dist': 0.05769230769230782, 'kurtosis': 2.9572534991484543}}\n"
     ]
    }
   ],
   "source": [
    "ordered_framings = ['P-SPAN',\n",
    "                   'P-SENT',\n",
    "                   'MC-SENT-PLOSS',\n",
    "                   'MC-SENT-PAIR',\n",
    "                   'MC-SENT',\n",
    "                   'MC-MLM']\n",
    "\n",
    "stats = get_stats(results,\n",
    "                  ordered_framings,\n",
    "                 )\n",
    "\n",
    "print(stats)"
   ]
  },
  {
   "cell_type": "code",
   "execution_count": 56,
   "metadata": {},
   "outputs": [
    {
     "name": "stdout",
     "output_type": "stream",
     "text": [
      "               P-SPAN     P-SENT  MC-SENT-PLOSS  MC-SENT-PAIR   MC-SENT  \\\n",
      "mean         0.656090   0.639744       0.672917      0.707372  0.758494   \n",
      "std          0.041305   0.045703       0.055378      0.082209  0.072672   \n",
      "medium       0.634615   0.634615       0.653846      0.673077  0.769231   \n",
      "1Q           0.634615   0.634615       0.644231      0.644231  0.689904   \n",
      "3Q           0.653846   0.634615       0.673077      0.781250  0.819712   \n",
      "max          0.759615   0.778846       0.865385      0.875000  0.875000   \n",
      "min          0.586538   0.365385       0.605769      0.605769  0.615385   \n",
      "top_3Q_dist  0.105769   0.144231       0.192308      0.093750  0.055288   \n",
      "kurtosis     0.282360  24.155789       5.360476     -0.793183 -1.185824   \n",
      "\n",
      "               MC-MLM  \n",
      "mean         0.848558  \n",
      "std          0.024761  \n",
      "medium       0.846154  \n",
      "1Q           0.836538  \n",
      "3Q           0.865385  \n",
      "max          0.923077  \n",
      "min          0.769231  \n",
      "top_3Q_dist  0.057692  \n",
      "kurtosis     2.957253  \n"
     ]
    }
   ],
   "source": [
    "stats_df = pd.DataFrame(stats)\n",
    "\n",
    "print(stats_df)"
   ]
  },
  {
   "cell_type": "markdown",
   "metadata": {},
   "source": [
    "# Save Stuff"
   ]
  },
  {
   "cell_type": "code",
   "execution_count": 111,
   "metadata": {},
   "outputs": [],
   "source": [
    "wd = os.path.dirname(os.path.abspath('__file__'))\n",
    "now = dt.now().strftime(\"%Y%m%d_%H%M\")\n",
    "\n",
    "f = f_violin\n",
    "f_type = 'violin'\n",
    "\n",
    "plot_name = os.path.join(wd, 'plots', f\"{DATASET}_plot_{f_type}_{now}.pdf\")\n",
    "stats_name = os.path.join(wd, 'stats', f\"{DATASET}_stats_{now}.json\")\n",
    "\n",
    "f.savefig(plot_name)\n",
    "with open(stats_name, 'w') as f:\n",
    "    f.write(json.dumps(stats))"
   ]
  }
 ],
 "metadata": {
  "kernelspec": {
   "display_name": "DL",
   "language": "python",
   "name": "dl"
  },
  "language_info": {
   "codemirror_mode": {
    "name": "ipython",
    "version": 3
   },
   "file_extension": ".py",
   "mimetype": "text/x-python",
   "name": "python",
   "nbconvert_exporter": "python",
   "pygments_lexer": "ipython3",
   "version": "3.7.7"
  }
 },
 "nbformat": 4,
 "nbformat_minor": 4
}

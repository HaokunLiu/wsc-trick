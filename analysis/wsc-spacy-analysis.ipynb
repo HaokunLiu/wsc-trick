{
 "cells": [
  {
   "cell_type": "code",
   "execution_count": 1,
   "metadata": {},
   "outputs": [],
   "source": [
    "import os\n",
    "import json\n",
    "import pandas as pd\n",
    "import matplotlib.pyplot as plt\n",
    "from matplotlib import cm\n",
    "import numpy as np\n",
    "from datetime import datetime as dt"
   ]
  },
  {
   "cell_type": "markdown",
   "metadata": {},
   "source": [
    "# Load Data"
   ]
  },
  {
   "cell_type": "code",
   "execution_count": 2,
   "metadata": {},
   "outputs": [],
   "source": [
    "DATASET = 'wsc-spacy'\n",
    "wd = os.path.dirname('__file__')\n",
    "f_name = f\"{DATASET}_RESULTS.csv\"\n",
    "hp_name = f\"{DATASET}_HP_SPACE.json\"\n",
    "frame_count_name = f\"{DATASET}_FRAMING_COUNTS.json\"\n",
    "\n",
    "results = pd.read_csv(os.path.join(wd, f_name))\n",
    "hp_space = pd.read_json(os.path.join(wd, hp_name))\n",
    "\n",
    "with open(frame_count_name) as f:\n",
    "    frame_count = json.load(f)\n",
    "    "
   ]
  },
  {
   "cell_type": "code",
   "execution_count": 3,
   "metadata": {},
   "outputs": [
    {
     "name": "stdout",
     "output_type": "stream",
     "text": [
      "['Unnamed: 0', 'level_0', 'index', 'dataset', 'framing', 'learning_rate', 'batch_size', 'max_epochs', 'seed', 'best_val_accuracy', 'exp_name', 'best_iter', 'current_iter', 'total_iter', 'early_stop']\n",
      "\n",
      " (201, 15)\n",
      "['MC-MLM' 'P-SPAN' 'MC-SENT' 'MC-SENT-PAIR' 'MC-SENT-PLOSS' 'P-SENT'\n",
      " 'MC-SENT-SCALE']\n"
     ]
    }
   ],
   "source": [
    "print(list(results.columns.values))\n",
    "print(f\"\\n {results.shape}\")\n",
    "\n",
    "framings = results['framing'].unique()\n",
    "print(framings)"
   ]
  },
  {
   "cell_type": "code",
   "execution_count": 4,
   "metadata": {},
   "outputs": [
    {
     "name": "stdout",
     "output_type": "stream",
     "text": [
      "201\n",
      "201\n",
      "[3e-05, 2e-05, 1e-05]\n",
      "[40, 20, 10]\n",
      "[8, 16, 32, 64]\n"
     ]
    }
   ],
   "source": [
    "print(results.shape[0])\n",
    "print(len(results['exp_name'].unique()))\n",
    "print(list(results['learning_rate'].unique()))\n",
    "print(list(results['max_epochs'].unique()))\n",
    "print(list(results['batch_size'].unique()))"
   ]
  },
  {
   "cell_type": "code",
   "execution_count": 5,
   "metadata": {},
   "outputs": [
    {
     "name": "stdout",
     "output_type": "stream",
     "text": [
      "   learning_rate  batch_size  max_epochs    dataset\n",
      "0        0.00003           8          40  wsc-spacy\n",
      "1        0.00002          16          20  wsc-spacy\n",
      "2        0.00001          32          10  wsc-spacy\n",
      "3        0.00000          64           0  wsc-spacy\n"
     ]
    }
   ],
   "source": [
    "print(hp_space)"
   ]
  },
  {
   "cell_type": "markdown",
   "metadata": {},
   "source": [
    "# Analyze"
   ]
  },
  {
   "cell_type": "code",
   "execution_count": 6,
   "metadata": {},
   "outputs": [],
   "source": [
    "def make_box_plots(data,\n",
    "                   labels, \n",
    "                   key_frame = 'framing',\n",
    "                   key_acc = 'best_val_accuracy',\n",
    "                   x_size = 10,\n",
    "                   y_size = 5,\n",
    "                   y_min = 55,\n",
    "                   y_max = 100,\n",
    "                   y_tick = 15,\n",
    "                   y_offset = 1,\n",
    "                   x_offset = .8,\n",
    "                   splines_offset = 10,\n",
    "                   bar_trans = 0.3,\n",
    "                   colors = ['darkgrey',\n",
    "                             'peachpuff',\n",
    "                             'burlywood',\n",
    "                             'gold',\n",
    "                             'lightgreen',\n",
    "                             'skyblue',\n",
    "                             'plum',\n",
    "                            ],\n",
    "                   bar_colors = True,\n",
    "                   bar_labels = True,\n",
    "                   adjusted_axes = True,\n",
    "                   title = None,\n",
    "                   showfliers = True,\n",
    "                   notch = False,\n",
    "                  ):\n",
    "    \n",
    "    all_scores = []\n",
    "    max_scores = []\n",
    "    for label in labels:\n",
    "        dist = data.loc[data[key_frame]==label,key_acc]*100\n",
    "        all_scores.append(dist)\n",
    "        max_scores.append(max(dist))\n",
    "    \n",
    "    fig, ax = plt.subplots(figsize=(x_size, y_size))\n",
    "    if not title is None:\n",
    "        ax.set_title(title)\n",
    "    \n",
    "    ax.set_ylim(y_min, y_max)\n",
    "    ax.set_yticks(np.arange(y_min, y_max+1, y_tick))\n",
    "    ax.set_xticklabels(labels)\n",
    "    \n",
    "    if adjusted_axes:\n",
    "        # Adjust plot borders\n",
    "        ax.spines['right'].set_visible(False)\n",
    "        ax.spines['top'].set_visible(False)\n",
    "        ax.spines['left'].set_position(('outward', splines_offset))\n",
    "        ax.spines['bottom'].set_position(('outward', splines_offset))\n",
    "    \n",
    "    ticks = np.arange(len(labels))+1\n",
    "    \n",
    "    if not bar_colors:\n",
    "        colors = None\n",
    "    \n",
    "    ax.bar(ticks, max_scores, color = colors, alpha=bar_trans)\n",
    "    ax.boxplot(all_scores, notch = notch, showfliers = showfliers)\n",
    "    \n",
    "    if bar_labels:\n",
    "        for i, v in enumerate(max_scores):\n",
    "            ax.text(i + x_offset, v + y_offset, \"{:.2f}%\".format(v))\n",
    "    \n",
    "    # Adjust layout\n",
    "    fig.tight_layout()\n",
    "    \n",
    "    return fig"
   ]
  },
  {
   "cell_type": "code",
   "execution_count": 7,
   "metadata": {},
   "outputs": [
    {
     "data": {
      "image/png": "[encoded data removed]",
      "text/plain": [
       "<Figure size 720x360 with 1 Axes>"
      ]
     },
     "metadata": {
      "needs_background": "light"
     },
     "output_type": "display_data"
    }
   ],
   "source": [
    "ordered_framings = ['MC-SENT-SCALE',\n",
    "                   'P-SPAN',\n",
    "                   'P-SENT',\n",
    "                   'MC-SENT-PLOSS',\n",
    "                   'MC-SENT-PAIR',\n",
    "                   'MC-SENT',\n",
    "                   'MC-MLM']\n",
    "\n",
    "f = make_box_plots(results,\n",
    "                   ordered_framings,\n",
    "                   bar_colors = True,\n",
    "                   bar_labels = True,\n",
    "                   adjusted_axes = True,\n",
    "                   title = None,\n",
    "                   showfliers = True,\n",
    "                   notch = False,\n",
    "                  )"
   ]
  },
  {
   "cell_type": "code",
   "execution_count": 8,
   "metadata": {},
   "outputs": [],
   "source": [
    "def get_stats(data,\n",
    "              labels,\n",
    "              key_frame = 'framing',\n",
    "              key_acc = 'best_val_accuracy',\n",
    "             ):\n",
    "    results = {label : {} for label in labels}\n",
    "    \n",
    "    for label, value in results.items():\n",
    "        dist = data.loc[data[key_frame]==label,key_acc]\n",
    "        \n",
    "        value['mean'] = dist.mean()\n",
    "        value['std'] = dist.std()\n",
    "        value['medium'] = dist.median()\n",
    "        value['1Q'] = dist.quantile(q=0.25)\n",
    "        value['3Q'] = dist.quantile(q=0.75)\n",
    "    \n",
    "    return results"
   ]
  },
  {
   "cell_type": "code",
   "execution_count": 9,
   "metadata": {},
   "outputs": [
    {
     "name": "stdout",
     "output_type": "stream",
     "text": [
      "{'MC-SENT-SCALE': {'mean': 0.659615384615, 'std': 0.014431509026577208, 'medium': 0.6634615385, '1Q': 0.65144230765, '3Q': 0.6730769231}, 'P-SPAN': {'mean': 0.6561538461538461, 'std': 0.04240747473946698, 'medium': 0.6346153846153846, '1Q': 0.6346153846153846, '3Q': 0.6538461538461539}, 'P-SENT': {'mean': 0.658173076915, 'std': 0.04536640597423123, 'medium': 0.6346153846, '1Q': 0.6346153846, '3Q': 0.6634615385}, 'MC-SENT-PLOSS': {'mean': 0.67788461537, 'std': 0.06887984611120763, 'medium': 0.6442307692, '1Q': 0.64182692305, '3Q': 0.6778846154}, 'MC-SENT-PAIR': {'mean': 0.716826923085, 'std': 0.08875781006136425, 'medium': 0.6826923077, '1Q': 0.658653846175, '3Q': 0.7932692307999999}, 'MC-SENT': {'mean': 0.76201923077, 'std': 0.07261969414435661, 'medium': 0.78365384615, '1Q': 0.6826923077, '3Q': 0.8269230769}, 'MC-MLM': {'mean': 0.8463423831070889, 'std': 0.025692350592895975, 'medium': 0.8461538461538461, '1Q': 0.8365384615384616, '3Q': 0.8605769230769231}}\n"
     ]
    }
   ],
   "source": [
    "stats = get_stats(results,\n",
    "                  ordered_framings,\n",
    "                 )\n",
    "\n",
    "print(stats)"
   ]
  },
  {
   "cell_type": "markdown",
   "metadata": {},
   "source": [
    "# Save Stuff"
   ]
  },
  {
   "cell_type": "code",
   "execution_count": 10,
   "metadata": {},
   "outputs": [],
   "source": [
    "wd = os.path.dirname('__file__')\n",
    "now = dt.now().strftime(\"%Y%m%d_%H%M\")\n",
    "plot_name = os.path.join(wd, f\"{DATASET}_plot_{now}.png\")\n",
    "stats_name = os.path.join(wd, f\"{DATASET}_stats_{now}.json\")\n",
    "\n",
    "f.savefig(plot_name)\n",
    "with open(stats_name, 'w') as f:\n",
    "    f.write(json.dumps(stats))"
   ]
  }
 ],
 "metadata": {
  "kernelspec": {
   "display_name": "DL",
   "language": "python",
   "name": "dl"
  },
  "language_info": {
   "codemirror_mode": {
    "name": "ipython",
    "version": 3
   },
   "file_extension": ".py",
   "mimetype": "text/x-python",
   "name": "python",
   "nbconvert_exporter": "python",
   "pygments_lexer": "ipython3",
   "version": "3.7.7"
  }
 },
 "nbformat": 4,
 "nbformat_minor": 4
}
